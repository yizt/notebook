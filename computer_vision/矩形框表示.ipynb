{
 "cells": [
  {
   "cell_type": "markdown",
   "metadata": {},
   "source": [
    "##  坐标转,中心点高宽\n",
    "\n",
    "(x1,y1,x2,y2)=>(cx,cy,w,h)"
   ]
  },
  {
   "cell_type": "code",
   "execution_count": 11,
   "metadata": {},
   "outputs": [],
   "source": [
    "import numpy as np\n",
    "def tochw(boxes):\n",
    "    nboxes=np.zeros_like(boxes)\n",
    "    nboxes[:,0]=(boxes[:,0]+boxes[:,2])/2\n",
    "    nboxes[:,1]=(boxes[:,1]+boxes[:,3])/2\n",
    "    nboxes[:,2]=boxes[:,2]-boxes[:,0]\n",
    "    nboxes[:,3]=boxes[:,3]-boxes[:,1]\n",
    "    return nboxes"
   ]
  },
  {
   "cell_type": "code",
   "execution_count": 12,
   "metadata": {},
   "outputs": [
    {
     "data": {
      "text/plain": [
       "array([ 50,  50, 100, 100])"
      ]
     },
     "execution_count": 12,
     "metadata": {},
     "output_type": "execute_result"
    }
   ],
   "source": [
    "box=np.array([0,0,100,100])\n",
    "boxes=np.tile(box,reps=(100,1))\n",
    "x=tochw(boxes)\n",
    "x[0]"
   ]
  },
  {
   "cell_type": "markdown",
   "metadata": {},
   "source": [
    "##  重点的高宽转坐标\n",
    "\n",
    "(cx,cy,w,h)=>(x1,y1,x2,y2)"
   ]
  },
  {
   "cell_type": "code",
   "execution_count": 13,
   "metadata": {
    "collapsed": true
   },
   "outputs": [],
   "source": [
    "def tocor(boxes):\n",
    "    nboxes=np.zeros_like(boxes)\n",
    "    nboxes[:,0]=boxes[:,0]-boxes[:,2]/2\n",
    "    nboxes[:,1]=boxes[:,1]-boxes[:,3]/2\n",
    "    nboxes[:,2]=boxes[:,0]+boxes[:,2]/2\n",
    "    nboxes[:,3]=boxes[:,0]+boxes[:,2]/2\n",
    "    return nboxes"
   ]
  },
  {
   "cell_type": "code",
   "execution_count": 14,
   "metadata": {
    "scrolled": true
   },
   "outputs": [
    {
     "data": {
      "text/plain": [
       "array([[  0,   0, 100, 100],\n",
       "       [  0,   0, 100, 100],\n",
       "       [  0,   0, 100, 100],\n",
       "       [  0,   0, 100, 100],\n",
       "       [  0,   0, 100, 100],\n",
       "       [  0,   0, 100, 100],\n",
       "       [  0,   0, 100, 100],\n",
       "       [  0,   0, 100, 100],\n",
       "       [  0,   0, 100, 100],\n",
       "       [  0,   0, 100, 100],\n",
       "       [  0,   0, 100, 100],\n",
       "       [  0,   0, 100, 100],\n",
       "       [  0,   0, 100, 100],\n",
       "       [  0,   0, 100, 100],\n",
       "       [  0,   0, 100, 100],\n",
       "       [  0,   0, 100, 100],\n",
       "       [  0,   0, 100, 100],\n",
       "       [  0,   0, 100, 100],\n",
       "       [  0,   0, 100, 100],\n",
       "       [  0,   0, 100, 100],\n",
       "       [  0,   0, 100, 100],\n",
       "       [  0,   0, 100, 100],\n",
       "       [  0,   0, 100, 100],\n",
       "       [  0,   0, 100, 100],\n",
       "       [  0,   0, 100, 100],\n",
       "       [  0,   0, 100, 100],\n",
       "       [  0,   0, 100, 100],\n",
       "       [  0,   0, 100, 100],\n",
       "       [  0,   0, 100, 100],\n",
       "       [  0,   0, 100, 100],\n",
       "       [  0,   0, 100, 100],\n",
       "       [  0,   0, 100, 100],\n",
       "       [  0,   0, 100, 100],\n",
       "       [  0,   0, 100, 100],\n",
       "       [  0,   0, 100, 100],\n",
       "       [  0,   0, 100, 100],\n",
       "       [  0,   0, 100, 100],\n",
       "       [  0,   0, 100, 100],\n",
       "       [  0,   0, 100, 100],\n",
       "       [  0,   0, 100, 100],\n",
       "       [  0,   0, 100, 100],\n",
       "       [  0,   0, 100, 100],\n",
       "       [  0,   0, 100, 100],\n",
       "       [  0,   0, 100, 100],\n",
       "       [  0,   0, 100, 100],\n",
       "       [  0,   0, 100, 100],\n",
       "       [  0,   0, 100, 100],\n",
       "       [  0,   0, 100, 100],\n",
       "       [  0,   0, 100, 100],\n",
       "       [  0,   0, 100, 100],\n",
       "       [  0,   0, 100, 100],\n",
       "       [  0,   0, 100, 100],\n",
       "       [  0,   0, 100, 100],\n",
       "       [  0,   0, 100, 100],\n",
       "       [  0,   0, 100, 100],\n",
       "       [  0,   0, 100, 100],\n",
       "       [  0,   0, 100, 100],\n",
       "       [  0,   0, 100, 100],\n",
       "       [  0,   0, 100, 100],\n",
       "       [  0,   0, 100, 100],\n",
       "       [  0,   0, 100, 100],\n",
       "       [  0,   0, 100, 100],\n",
       "       [  0,   0, 100, 100],\n",
       "       [  0,   0, 100, 100],\n",
       "       [  0,   0, 100, 100],\n",
       "       [  0,   0, 100, 100],\n",
       "       [  0,   0, 100, 100],\n",
       "       [  0,   0, 100, 100],\n",
       "       [  0,   0, 100, 100],\n",
       "       [  0,   0, 100, 100],\n",
       "       [  0,   0, 100, 100],\n",
       "       [  0,   0, 100, 100],\n",
       "       [  0,   0, 100, 100],\n",
       "       [  0,   0, 100, 100],\n",
       "       [  0,   0, 100, 100],\n",
       "       [  0,   0, 100, 100],\n",
       "       [  0,   0, 100, 100],\n",
       "       [  0,   0, 100, 100],\n",
       "       [  0,   0, 100, 100],\n",
       "       [  0,   0, 100, 100],\n",
       "       [  0,   0, 100, 100],\n",
       "       [  0,   0, 100, 100],\n",
       "       [  0,   0, 100, 100],\n",
       "       [  0,   0, 100, 100],\n",
       "       [  0,   0, 100, 100],\n",
       "       [  0,   0, 100, 100],\n",
       "       [  0,   0, 100, 100],\n",
       "       [  0,   0, 100, 100],\n",
       "       [  0,   0, 100, 100],\n",
       "       [  0,   0, 100, 100],\n",
       "       [  0,   0, 100, 100],\n",
       "       [  0,   0, 100, 100],\n",
       "       [  0,   0, 100, 100],\n",
       "       [  0,   0, 100, 100],\n",
       "       [  0,   0, 100, 100],\n",
       "       [  0,   0, 100, 100],\n",
       "       [  0,   0, 100, 100],\n",
       "       [  0,   0, 100, 100],\n",
       "       [  0,   0, 100, 100],\n",
       "       [  0,   0, 100, 100]])"
      ]
     },
     "execution_count": 14,
     "metadata": {},
     "output_type": "execute_result"
    }
   ],
   "source": [
    "tocor(x)"
   ]
  },
  {
   "cell_type": "code",
   "execution_count": 38,
   "metadata": {},
   "outputs": [
    {
     "data": {
      "text/plain": [
       "array([[-1.41515152, -0.02628902,  0.3851501 ],\n",
       "       [-0.62952487,  0.81334433,  1.53184361]])"
      ]
     },
     "execution_count": 38,
     "metadata": {},
     "output_type": "execute_result"
    }
   ],
   "source": [
    "x=np.random.randn(2,3)\n",
    "x"
   ]
  },
  {
   "cell_type": "code",
   "execution_count": 33,
   "metadata": {},
   "outputs": [],
   "source": [
    "a=np.argmax(x,axis=-1)"
   ]
  },
  {
   "cell_type": "code",
   "execution_count": 36,
   "metadata": {},
   "outputs": [
    {
     "data": {
      "text/plain": [
       "array([2.07467464, 0.21000528])"
      ]
     },
     "execution_count": 36,
     "metadata": {},
     "output_type": "execute_result"
    }
   ],
   "source": [
    "x[range(2),a]\n",
    "\n"
   ]
  }
 ],
 "metadata": {
  "kernelspec": {
   "display_name": "Python 3",
   "language": "python",
   "name": "python3"
  },
  "language_info": {
   "codemirror_mode": {
    "name": "ipython",
    "version": 3
   },
   "file_extension": ".py",
   "mimetype": "text/x-python",
   "name": "python",
   "nbconvert_exporter": "python",
   "pygments_lexer": "ipython3",
   "version": "3.6.4"
  }
 },
 "nbformat": 4,
 "nbformat_minor": 2
}
