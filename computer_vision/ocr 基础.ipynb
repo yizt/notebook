{
 "cells": [
  {
   "cell_type": "markdown",
   "metadata": {},
   "source": [
    "## K.ctc_batch_cost\n",
    "\n",
    "K.ctc_batch_cost(y_true, y_pred, input_length, label_length)\n",
    "\n",
    "y_true：形如(samples，max_tring_length)的张量，包含标签的真值\n",
    "\n",
    "y_pred：形如(samples，time_steps，num_categories)的张量，包含预测值或输出的softmax值\n",
    "\n",
    "input_length：形如(samples，1)的张量，包含y_pred中每个batch的序列长;值为time_steps\n",
    "\n",
    "label_length：形如(samples，1)的张量，包含y_true中每个batch的序列长;实际字符长度\n"
   ]
  },
  {
   "cell_type": "markdown",
   "metadata": {},
   "source": []
  }
 ],
 "metadata": {
  "kernelspec": {
   "display_name": "Python 3",
   "language": "python",
   "name": "python3"
  },
  "language_info": {
   "codemirror_mode": {
    "name": "ipython",
    "version": 3
   },
   "file_extension": ".py",
   "mimetype": "text/x-python",
   "name": "python",
   "nbconvert_exporter": "python",
   "pygments_lexer": "ipython3",
   "version": "3.6.4"
  },
  "toc": {
   "base_numbering": 1,
   "nav_menu": {},
   "number_sections": true,
   "sideBar": true,
   "skip_h1_title": false,
   "title_cell": "Table of Contents",
   "title_sidebar": "Contents",
   "toc_cell": false,
   "toc_position": {},
   "toc_section_display": true,
   "toc_window_display": true
  }
 },
 "nbformat": 4,
 "nbformat_minor": 2
}
