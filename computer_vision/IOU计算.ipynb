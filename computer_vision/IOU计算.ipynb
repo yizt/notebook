{
 "cells": [
  {
   "cell_type": "markdown",
   "metadata": {},
   "source": [
    "## 1. 遍历循环计算"
   ]
  },
  {
   "cell_type": "code",
   "execution_count": 1,
   "metadata": {
    "collapsed": true
   },
   "outputs": [],
   "source": [
    "import numpy as np\n",
    "def getIoU(anchors,gts):\n",
    "    N,_=anchors.shape\n",
    "    M,_=gts.shape\n",
    "    \n",
    "    iou=np.zeros((N,M))\n",
    "    \n",
    "    anchors_area=(anchors[:,2]-anchors[:,0]+1)*(anchors[:,3]-anchors[:,1]+1)\n",
    "    gts_area=(gts[:,2]-gts[:,0]+1)*(gts[:,3]-gts[:,1]+1)\n",
    "    \n",
    "    for i in range(N):\n",
    "        for j in range(M):\n",
    "            w = min(anchors[i,2],gts[j,2])-max(anchors[i,0],gts[j,0])\n",
    "            if(w>0):\n",
    "                h = min(anchors[i,3],gts[j,3])-max(anchors[i,1],gts[j,1])\n",
    "                if(h>0):\n",
    "                    intersection=(w+1)*(h+1)\n",
    "                    union=anchors_area[i]+gts_area[j]-intersection\n",
    "                    iou[i,j]=intersection/union\n",
    "    return iou"
   ]
  },
  {
   "cell_type": "markdown",
   "metadata": {},
   "source": [
    "##  2. 纯numpy计算"
   ]
  },
  {
   "cell_type": "code",
   "execution_count": 2,
   "metadata": {
    "collapsed": true
   },
   "outputs": [],
   "source": [
    "def np_iou(anchors,gts):\n",
    "    N,_=anchors.shape\n",
    "    M,_=gts.shape\n",
    "    anchors_area=(anchors[:,2]-anchors[:,0]+1)*(anchors[:,3]-anchors[:,1]+1)\n",
    "    gts_area=(gts[:,2]-gts[:,0]+1)*(gts[:,3]-gts[:,1]+1)\n",
    "    \n",
    "    # 扩维\n",
    "    anchors=np.expand_dims(anchors,axis=1)\n",
    "    gts=np.expand_dims(gts,axis=0)\n",
    "    \n",
    "    anchors_area=np.expand_dims(anchors_area,axis=1)\n",
    "    gts_area=np.expand_dims(gts_area,axis=0)\n",
    "\n",
    "    \n",
    "    # 利用numpy广播\n",
    "    iou=np.zeros((N,M,3))\n",
    "    iou[:,:,0]= np.max(np.where(np.less(anchors[:,:,2],gts[:,:,2]),anchors[:,:,2],gts[:,:,2])-\n",
    "                       np.where(np.greater(anchors[:,:,0],gts[:,:,0]),anchors[:,:,0],gts[:,:,0])+1,0)\n",
    "    iou[:,:,1]= np.max(np.where(np.less(anchors[:,:,3],gts[:,:,3]),anchors[:,:,3],gts[:,:,3])-\n",
    "                       np.where(np.greater(anchors[:,:,1],gts[:,:,1]),anchors[:,:,1],gts[:,:,1])+1,0)\n",
    "    iou[:,:,2]=iou[:,:,0]*iou[:,:,1]/(anchors_area+gts_area-iou[:,:,0]*iou[:,:,1])\n",
    "    return iou[:,:,2]"
   ]
  },
  {
   "cell_type": "markdown",
   "metadata": {},
   "source": [
    "## 3.比较结果和耗时"
   ]
  },
  {
   "cell_type": "code",
   "execution_count": 3,
   "metadata": {
    "collapsed": true,
    "scrolled": true
   },
   "outputs": [],
   "source": [
    "gt=np.array([0,0,100,100])\n",
    "gts=np.tile(gt,reps=(100,1))\n",
    "\n",
    "anchor=np.array([50,50,150,150])\n",
    "anchors=np.tile(anchor,reps=(10000,1))\n",
    "\n",
    "ious=getIoU(anchors,gts)\n",
    "np_ious=np_iou(anchors,gts)"
   ]
  },
  {
   "cell_type": "code",
   "execution_count": 4,
   "metadata": {},
   "outputs": [
    {
     "data": {
      "text/plain": [
       "True"
      ]
     },
     "execution_count": 4,
     "metadata": {},
     "output_type": "execute_result"
    }
   ],
   "source": [
    "np.allclose(ious,np_ious)"
   ]
  },
  {
   "cell_type": "code",
   "execution_count": 5,
   "metadata": {
    "scrolled": true
   },
   "outputs": [
    {
     "name": "stdout",
     "output_type": "stream",
     "text": [
      "1 loop, best of 3: 2.74 s per loop\n"
     ]
    }
   ],
   "source": [
    "%timeit getIoU(anchors,gts)"
   ]
  },
  {
   "cell_type": "code",
   "execution_count": 6,
   "metadata": {},
   "outputs": [
    {
     "name": "stdout",
     "output_type": "stream",
     "text": [
      "10 loops, best of 3: 57.3 ms per loop\n"
     ]
    }
   ],
   "source": [
    "%timeit np_iou(anchors,gts)"
   ]
  },
  {
   "cell_type": "markdown",
   "metadata": {},
   "source": [
    "#   二. 获取正负样本"
   ]
  },
  {
   "cell_type": "code",
   "execution_count": 23,
   "metadata": {
    "collapsed": true,
    "scrolled": true
   },
   "outputs": [],
   "source": [
    "def get_idxes(overlaps,pos_iou=0.7,neg_iou=0.3):\n",
    "    \n",
    "    \n",
    "    \n",
    "    n,m=overlaps.shape\n",
    "    max_overlap_indices=np.argmax(overlaps,axis=1) # (n,)\n",
    "    max_overlaps=overlaps[np.arange(n),max_overlap_indices] #  切记，这仍然是一维数组(n,)\n",
    "    \n",
    "    # anchor最大的iou>0.7的是正样本\n",
    "    pos_indices=max_overlaps>pos_iou\n",
    "    \n",
    "    # gt 最大的\n",
    "    gt_set=set(np.unique(max_overlap_indices[pos_indices]))\n",
    "    \n",
    "    no_match_gt=set(range(m))-gt_set  #  集合可以做差集\n",
    "    \n",
    "    gmax_overlap_indices=np.argmax(overlaps,axis=0)\n",
    "    print(no_match_gt)\n",
    "    for g in no_match_gt:\n",
    "        idx=gmax_overlap_indices[g]\n",
    "        print(\"g:{},idx:{}\".format(g,idx))\n",
    "        pos_indices[idx]=True\n",
    "        max_overlap_indices[idx]=g\n",
    "    \n",
    "    # 负样本\n",
    "    neg_indices=(max_overlaps<neg_iou) & ~pos_indices\n",
    "    \n",
    "    return pos_indices,neg_indices,max_overlap_indices\n",
    "    "
   ]
  },
  {
   "cell_type": "code",
   "execution_count": 27,
   "metadata": {},
   "outputs": [
    {
     "name": "stdout",
     "output_type": "stream",
     "text": [
      "{0, 3}\n",
      "g:0,idx:6\n",
      "g:3,idx:1\n"
     ]
    }
   ],
   "source": [
    "boxs=np.array([[0.1,0.2,0.2,0.1],\n",
    "              [0.1,0.3,0.4,0.66],\n",
    "               [0.1,0.8,0.4,0.6],\n",
    "               [0.1,0.2,0.4,0.6],\n",
    "               [0.2,0.2,0.9,0.6],\n",
    "               [0.3,0.2,0.75,0.6],\n",
    "               [0.4,0.2,0.4,0.5]\n",
    "              ])\n",
    "pos_indices,neg_indices,max_overlap_indices=get_idxes(boxs)"
   ]
  },
  {
   "cell_type": "code",
   "execution_count": 28,
   "metadata": {},
   "outputs": [
    {
     "data": {
      "text/plain": [
       "array([False,  True,  True, False,  True,  True,  True])"
      ]
     },
     "execution_count": 28,
     "metadata": {},
     "output_type": "execute_result"
    }
   ],
   "source": [
    "pos_indices"
   ]
  },
  {
   "cell_type": "markdown",
   "metadata": {},
   "source": [
    "# 三. 计算回归目标 "
   ]
  },
  {
   "cell_type": "code",
   "execution_count": 31,
   "metadata": {
    "collapsed": true
   },
   "outputs": [],
   "source": [
    "def tochw(boxes):\n",
    "    nboxes=np.zeros_like(boxes)\n",
    "    nboxes[:,0]=(boxes[:,0]+boxes[:,2])/2\n",
    "    nboxes[:,1]=(boxes[:,1]+boxes[:,3])/2\n",
    "    nboxes[:,2]=boxes[:,2]-boxes[:,0]\n",
    "    nboxes[:,3]=boxes[:,3]-boxes[:,1]\n",
    "    return nboxes"
   ]
  },
  {
   "cell_type": "code",
   "execution_count": 33,
   "metadata": {},
   "outputs": [],
   "source": [
    "def rgs_target(anchors,gts):\n",
    "    c_anchors=tochw(anchors)\n",
    "    c_gts=tochw(gts)\n",
    "    \n",
    "    tx=(c_gts[:,0]-c_anchors[:,0])/c_anchors[:,2]\n",
    "    ty=(c_gts[:,1]-c_anchors[:,1])/c_anchors[:,3]\n",
    "    tw=np.log(c_gts[:,2]/c_anchors[:,2])\n",
    "    th=np.log(c_gts[:,3]/c_anchors[:,3])\n",
    "    \n",
    "    return np.stack((tx,ty,tw,th)).T"
   ]
  },
  {
   "cell_type": "code",
   "execution_count": 34,
   "metadata": {},
   "outputs": [
    {
     "data": {
      "text/plain": [
       "array([[1, 3, 1, 3, 2, 2, 0],\n",
       "       [1, 3, 1, 3, 2, 2, 0]], dtype=int64)"
      ]
     },
     "execution_count": 34,
     "metadata": {},
     "output_type": "execute_result"
    }
   ],
   "source": [
    "np.stack((max_overlap_indices,max_overlap_indices))"
   ]
  },
  {
   "cell_type": "code",
   "execution_count": 15,
   "metadata": {
    "collapsed": true
   },
   "outputs": [],
   "source": [
    "pos_indices[0]=True"
   ]
  },
  {
   "cell_type": "code",
   "execution_count": 35,
   "metadata": {},
   "outputs": [
    {
     "data": {
      "text/plain": [
       "array([[-1.73202346, -0.43052661,  0.54634604],\n",
       "       [-0.16545724,  1.58035509,  0.85180594],\n",
       "       [ 0.31609746, -0.27810496, -0.60235744]])"
      ]
     },
     "execution_count": 35,
     "metadata": {},
     "output_type": "execute_result"
    }
   ],
   "source": [
    "x=np.random.randn(3,3)\n",
    "indices=np.argmax(x,axis=1)\n",
    "x"
   ]
  },
  {
   "cell_type": "code",
   "execution_count": 57,
   "metadata": {},
   "outputs": [],
   "source": [
    "a=np.where((x[:,0]>0) | (x[:,2]>0 & (x[:,1]>-1)))"
   ]
  },
  {
   "cell_type": "code",
   "execution_count": 60,
   "metadata": {},
   "outputs": [
    {
     "data": {
      "text/plain": [
       "array([[-1.73202346, -0.43052661,  0.54634604]])"
      ]
     },
     "execution_count": 60,
     "metadata": {},
     "output_type": "execute_result"
    }
   ],
   "source": [
    "np.delete(x,[1],axis=0)\n",
    "x[[True,False,False]]"
   ]
  },
  {
   "cell_type": "code",
   "execution_count": 51,
   "metadata": {},
   "outputs": [
    {
     "data": {
      "text/plain": [
       "(array([0, 1, 1, 2], dtype=int64), array([2, 1, 2, 0], dtype=int64))"
      ]
     },
     "execution_count": 51,
     "metadata": {},
     "output_type": "execute_result"
    }
   ],
   "source": [
    "np.where(x>0)"
   ]
  },
  {
   "cell_type": "code",
   "execution_count": 13,
   "metadata": {},
   "outputs": [
    {
     "ename": "SyntaxError",
     "evalue": "invalid syntax (<ipython-input-13-0cc249c18505>, line 1)",
     "output_type": "error",
     "traceback": [
      "\u001b[1;36m  File \u001b[1;32m\"<ipython-input-13-0cc249c18505>\"\u001b[1;36m, line \u001b[1;32m1\u001b[0m\n\u001b[1;33m    x[range(3),indices]>\u001b[0m\n\u001b[1;37m                        ^\u001b[0m\n\u001b[1;31mSyntaxError\u001b[0m\u001b[1;31m:\u001b[0m invalid syntax\n"
     ]
    }
   ],
   "source": [
    "x[range(3),indices]>\n",
    "x"
   ]
  },
  {
   "cell_type": "code",
   "execution_count": null,
   "metadata": {
    "collapsed": true
   },
   "outputs": [],
   "source": [
    "a=x[range(3),indices]>1"
   ]
  },
  {
   "cell_type": "code",
   "execution_count": null,
   "metadata": {},
   "outputs": [],
   "source": [
    "x[range(3),indices]"
   ]
  },
  {
   "cell_type": "code",
   "execution_count": null,
   "metadata": {},
   "outputs": [],
   "source": [
    "x"
   ]
  },
  {
   "cell_type": "code",
   "execution_count": null,
   "metadata": {
    "scrolled": true
   },
   "outputs": [],
   "source": [
    "x=list(['b', 'h', 'o', 'n', 'p', 't', 'y'])\n",
    "if 'b' in x:\n",
    "    print ('yes')"
   ]
  },
  {
   "cell_type": "code",
   "execution_count": null,
   "metadata": {},
   "outputs": [],
   "source": [
    "set(np.arange(6))-set(range(3))"
   ]
  }
 ],
 "metadata": {
  "kernelspec": {
   "display_name": "Python 3",
   "language": "python",
   "name": "python3"
  },
  "language_info": {
   "codemirror_mode": {
    "name": "ipython",
    "version": 3
   },
   "file_extension": ".py",
   "mimetype": "text/x-python",
   "name": "python",
   "nbconvert_exporter": "python",
   "pygments_lexer": "ipython3",
   "version": "3.6.4"
  }
 },
 "nbformat": 4,
 "nbformat_minor": 2
}
