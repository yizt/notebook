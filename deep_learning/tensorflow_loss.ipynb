{
 "cells": [
  {
   "cell_type": "code",
   "execution_count": 29,
   "metadata": {},
   "outputs": [],
   "source": [
    "import tensorflow as tf\n",
    "sess=tf.Session()"
   ]
  },
  {
   "cell_type": "markdown",
   "metadata": {},
   "source": [
    "## tf.nn.softmax_cross_entropy_with_logits\n",
    "该操作应该施加在未经过Softmax处理的logits上，否则会产生错误结果\n",
    "softmax_cross_entropy_with_logits 与 "
   ]
  },
  {
   "cell_type": "code",
   "execution_count": 30,
   "metadata": {},
   "outputs": [
    {
     "data": {
      "text/plain": [
       "array([0.40760604, 1.407606  ], dtype=float32)"
      ]
     },
     "execution_count": 30,
     "metadata": {},
     "output_type": "execute_result"
    }
   ],
   "source": [
    "y_true = tf.constant([[1.0, 0, 0],[0.0, 0, 1.]]) # 正确标签\n",
    "\n",
    "y_predict=tf.constant([[4,2,3.],[4,2,3.]])\n",
    "loss=tf.nn.softmax_cross_entropy_with_logits(labels=y_true,logits=y_predict)\n",
    "sess.run(loss)"
   ]
  },
  {
   "cell_type": "markdown",
   "metadata": {},
   "source": [
    "##  sparse_softmax_cross_entropy_with_logits\n",
    "\n",
    "sparse_softmax_cross_entropy_with_logits\n",
    "\n"
   ]
  },
  {
   "cell_type": "code",
   "execution_count": 31,
   "metadata": {},
   "outputs": [
    {
     "data": {
      "text/plain": [
       "array([0.40760604, 1.407606  ], dtype=float32)"
      ]
     },
     "execution_count": 31,
     "metadata": {},
     "output_type": "execute_result"
    }
   ],
   "source": [
    "y_true_sparse=tf.constant([0,2])\n",
    "loss=tf.nn.sparse_softmax_cross_entropy_with_logits(labels=y_true_sparse,logits=y_predict)\n",
    "sess.run(loss)"
   ]
  },
  {
   "cell_type": "markdown",
   "metadata": {},
   "source": [
    "## softmax+reduce_sum\n",
    "\n",
    "以下等价softmax_cross_entropy_with_logits"
   ]
  },
  {
   "cell_type": "code",
   "execution_count": 32,
   "metadata": {},
   "outputs": [],
   "source": [
    "softmax=tf.nn.softmax(logits=y_predict)\n",
    "entrop_loss=tf.reduce_sum(-y_true*tf.log(softmax),axis=1)"
   ]
  },
  {
   "cell_type": "code",
   "execution_count": 34,
   "metadata": {},
   "outputs": [
    {
     "name": "stdout",
     "output_type": "stream",
     "text": [
      "[[0.6652409  0.09003057 0.24472845]\n",
      " [0.6652409  0.09003057 0.24472845]]\n"
     ]
    },
    {
     "data": {
      "text/plain": [
       "array([0.40760607, 1.4076061 ], dtype=float32)"
      ]
     },
     "execution_count": 34,
     "metadata": {},
     "output_type": "execute_result"
    }
   ],
   "source": [
    "print(sess.run(softmax))\n",
    "sess.run(entrop_loss)"
   ]
  },
  {
   "cell_type": "code",
   "execution_count": 37,
   "metadata": {},
   "outputs": [
    {
     "data": {
      "text/plain": [
       "array([[3, 2, 4],\n",
       "       [2, 3, 4],\n",
       "       [3, 3, 4]], dtype=int32)"
      ]
     },
     "execution_count": 37,
     "metadata": {},
     "output_type": "execute_result"
    }
   ],
   "source": [
    "x=tf.constant([\n",
    "    [[3,2,4],[2,3,4]],\n",
    "    [[1,2,4],[3,3,4]]\n",
    "])\n",
    "indices=tf.gather_nd(x,tf.where(x[:,:,0]>1))\n",
    "\n",
    "sess.run(indices)                    "
   ]
  },
  {
   "cell_type": "code",
   "execution_count": 41,
   "metadata": {},
   "outputs": [
    {
     "data": {
      "text/plain": [
       "array([[3, 2, 4],\n",
       "       [2, 3, 4],\n",
       "       [1, 2, 4],\n",
       "       [3, 3, 4]], dtype=int32)"
      ]
     },
     "execution_count": 41,
     "metadata": {},
     "output_type": "execute_result"
    }
   ],
   "source": [
    "shape=tf.shape(x)\n",
    "y=tf.reshape(x,[tf.reduce_prod(shape[:2]),shape[2]])\n",
    "sess.run(y)"
   ]
  },
  {
   "cell_type": "code",
   "execution_count": null,
   "metadata": {},
   "outputs": [],
   "source": []
  }
 ],
 "metadata": {
  "kernelspec": {
   "display_name": "Python 3",
   "language": "python",
   "name": "python3"
  },
  "language_info": {
   "codemirror_mode": {
    "name": "ipython",
    "version": 3
   },
   "file_extension": ".py",
   "mimetype": "text/x-python",
   "name": "python",
   "nbconvert_exporter": "python",
   "pygments_lexer": "ipython3",
   "version": "3.6.7"
  }
 },
 "nbformat": 4,
 "nbformat_minor": 2
}
