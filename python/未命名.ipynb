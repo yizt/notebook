{
 "cells": [
  {
   "cell_type": "code",
   "execution_count": 9,
   "metadata": {},
   "outputs": [],
   "source": [
    "import numpy as np\n",
    "import cv2\n",
    "import os\n",
    "dir_path = '/Volumes/Elements/simulate_video/0929现场调光源/all_frames'\n",
    "im_name_list =['Video_2021_09_29_155706_4(光圈2).avi',\n",
    "               'Video_2021_09_29_155939_5(光圈2.8).avi',\n",
    "              'Video_2021_09_29_155528_3(光圈4).avi',\n",
    "              'Video_2021_09_29_160056_6(光圈8).avi',\n",
    "              'Video_2021_09_29_163137_8(光圈16).avi',\n",
    "              'Video_2021_09_29_182354_8(光圈2 晚上).avi',\n",
    "              'Video_2021_09_29_182252_7(光圈2.8 晚上).avi',\n",
    "              'Video_2021_09_29_182203_6(光圈4 晚上).avi',\n",
    "              'Video_2021_09_29_181945_4(光圈8 晚上).avi',\n",
    "              'Video_2021_09_29_182059_5(光圈16 晚上).avi']\n",
    "for im_name in im_name_list:\n",
    "    im_path ='{}/{}_00001.jpg'.format(dir_path,im_name)\n",
    "    im = cv2.imread(im_path)\n",
    "    cv2.imshow('',im)\n",
    "    cv2.waitKey(0)"
   ]
  },
  {
   "cell_type": "code",
   "execution_count": 6,
   "metadata": {},
   "outputs": [
    {
     "name": "stdout",
     "output_type": "stream",
     "text": [
      "all_frames\n",
      "Pic_2021_07_19_113220_1.bmp\n",
      "Pic_2021_09_29_150514_1.bmp\n",
      "Pic_2021_09_29_151834_1.bmp\n",
      "Pic_2021_09_29_152059_2.bmp\n",
      "Pic_2021_09_29_155013_3.bmp\n",
      "Pic_2021_09_29_160200_4.bmp\n",
      "Pic_2021_09_29_162305_5.bmp\n",
      "Pic_2021_09_29_162326_6.bmp\n",
      "Pic_2021_09_29_164348_1.bmp\n",
      "Pic_2021_09_29_164353_2.bmp\n",
      "Video_2021_09_29_150945_1.avi\n",
      "Video_2021_09_29_152519_1(有太阳).avi\n",
      "Video_2021_09_29_153154_2(有太阳+两个光源).avi\n",
      "Video_2021_09_29_155528_3(光圈4).avi\n",
      "Video_2021_09_29_155706_4(光圈2).avi\n",
      "Video_2021_09_29_155939_5(光圈2.8).avi\n",
      "Video_2021_09_29_160056_6(光圈8).avi\n",
      "Video_2021_09_29_161944_7(光圈8，无太阳).avi\n",
      "Video_2021_09_29_163137_8(光圈16).avi\n",
      "Video_2021_09_29_164221_1(光圈4+塑料膜).avi\n",
      "Video_2021_09_29_165312_2(光圈4+纸).avi\n",
      "Video_2021_09_29_170109_3(光圈8+降噪+锐度+白平衡).avi\n",
      "Video_2021_09_29_181945_4(光圈8 晚上).avi\n",
      "Video_2021_09_29_182059_5(光圈16 晚上).avi\n",
      "Video_2021_09_29_182203_6(光圈4 晚上).avi\n",
      "Video_2021_09_29_182252_7(光圈2.8 晚上).avi\n",
      "Video_2021_09_29_182354_8(光圈2 晚上).avi\n",
      "._Video_2021_09_29_182354_8(光圈2 晚上).avi\n",
      "._Video_2021_09_29_182252_7(光圈2.8 晚上).avi\n",
      "._Video_2021_09_29_182203_6(光圈4 晚上).avi\n",
      "._Video_2021_09_29_182059_5(光圈16 晚上).avi\n",
      "._Video_2021_09_29_181945_4(光圈8 晚上).avi\n"
     ]
    }
   ],
   "source": [
    "for im_name in os.listdir(dir_path):\n",
    "    print(im_name)"
   ]
  },
  {
   "cell_type": "code",
   "execution_count": 1,
   "metadata": {},
   "outputs": [
    {
     "ename": "AttributeError",
     "evalue": "'NoneType' object has no attribute 'text'",
     "output_type": "error",
     "traceback": [
      "\u001b[0;31m---------------------------------------------------------------------------\u001b[0m",
      "\u001b[0;31mAttributeError\u001b[0m                            Traceback (most recent call last)",
      "\u001b[0;32m<ipython-input-1-116712937ea1>\u001b[0m in \u001b[0;36m<module>\u001b[0;34m\u001b[0m\n\u001b[1;32m      5\u001b[0m \u001b[0mresponse\u001b[0m \u001b[0;34m=\u001b[0m \u001b[0mrequests\u001b[0m\u001b[0;34m.\u001b[0m\u001b[0mget\u001b[0m\u001b[0;34m(\u001b[0m\u001b[0murl\u001b[0m\u001b[0;34m)\u001b[0m\u001b[0;34m\u001b[0m\u001b[0m\n\u001b[1;32m      6\u001b[0m \u001b[0msoup\u001b[0m \u001b[0;34m=\u001b[0m \u001b[0mBeautifulSoup\u001b[0m\u001b[0;34m(\u001b[0m\u001b[0mresponse\u001b[0m\u001b[0;34m.\u001b[0m\u001b[0mcontent\u001b[0m\u001b[0;34m,\u001b[0m \u001b[0;34m\"html.parser\"\u001b[0m\u001b[0;34m)\u001b[0m\u001b[0;34m\u001b[0m\u001b[0m\n\u001b[0;32m----> 7\u001b[0;31m \u001b[0mreport\u001b[0m \u001b[0;34m=\u001b[0m \u001b[0msoup\u001b[0m\u001b[0;34m.\u001b[0m\u001b[0mfind\u001b[0m\u001b[0;34m(\u001b[0m\u001b[0;34m\"div\"\u001b[0m\u001b[0;34m,\u001b[0m \u001b[0mclass_\u001b[0m\u001b[0;34m=\u001b[0m\u001b[0;34m\"report\"\u001b[0m\u001b[0;34m)\u001b[0m\u001b[0;34m.\u001b[0m\u001b[0mtext\u001b[0m\u001b[0;34m\u001b[0m\u001b[0m\n\u001b[0m\u001b[1;32m      8\u001b[0m \u001b[0mprint\u001b[0m\u001b[0;34m(\u001b[0m\u001b[0mreport\u001b[0m\u001b[0;34m)\u001b[0m\u001b[0;34m\u001b[0m\u001b[0m\n",
      "\u001b[0;31mAttributeError\u001b[0m: 'NoneType' object has no attribute 'text'"
     ]
    }
   ],
   "source": [
    "import requests\n",
    "from bs4 import BeautifulSoup\n",
    "\n",
    "url = \"https://money.163.com/stock/000002.html\"\n",
    "response = requests.get(url)\n",
    "soup = BeautifulSoup(response.content, \"html.parser\")\n",
    "report = soup.find(\"div\", class_=\"report\").text\n",
    "print(report)\n"
   ]
  },
  {
   "cell_type": "code",
   "execution_count": 2,
   "metadata": {},
   "outputs": [],
   "source": [
    "import numpy as np\n",
    "\n",
    "def euler_maruyama(f, g, x0, t, dt, dW):\n",
    "    \"\"\"\n",
    "    Euler-Maruyama method for solving SDEs of the form:\n",
    "    dx = f(x,t) dt + g(x,t) dW\n",
    "    where dW is a Wiener process (Brownian motion).\n",
    "    \"\"\"\n",
    "    x = np.zeros((len(t), len(x0)))\n",
    "    x[0] = x0\n",
    "    for i in range(1, len(t)):\n",
    "        x[i] = x[i-1] + f(x[i-1], t[i-1]) * dt + g(x[i-1], t[i-1]) * dW[i-1]\n",
    "    return x\n"
   ]
  },
  {
   "cell_type": "code",
   "execution_count": null,
   "metadata": {},
   "outputs": [],
   "source": []
  }
 ],
 "metadata": {
  "kernelspec": {
   "display_name": "Python 3",
   "language": "python",
   "name": "python3"
  },
  "language_info": {
   "codemirror_mode": {
    "name": "ipython",
    "version": 3
   },
   "file_extension": ".py",
   "mimetype": "text/x-python",
   "name": "python",
   "nbconvert_exporter": "python",
   "pygments_lexer": "ipython3",
   "version": "3.6.3"
  },
  "toc": {
   "base_numbering": 1,
   "nav_menu": {},
   "number_sections": true,
   "sideBar": true,
   "skip_h1_title": false,
   "title_cell": "Table of Contents",
   "title_sidebar": "Contents",
   "toc_cell": false,
   "toc_position": {},
   "toc_section_display": true,
   "toc_window_display": false
  }
 },
 "nbformat": 4,
 "nbformat_minor": 2
}
