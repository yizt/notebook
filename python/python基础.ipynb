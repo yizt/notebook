{
 "cells": [
  {
   "cell_type": "code",
   "execution_count": 1,
   "metadata": {
    "scrolled": true
   },
   "outputs": [
    {
     "data": {
      "text/plain": [
       "0.23947270838460089"
      ]
     },
     "execution_count": 1,
     "metadata": {},
     "output_type": "execute_result"
    }
   ],
   "source": [
    "import numpy as np\n",
    "np.random.random()"
   ]
  },
  {
   "cell_type": "code",
   "execution_count": 56,
   "metadata": {},
   "outputs": [
    {
     "data": {
      "text/plain": [
       "range(0, 3)"
      ]
     },
     "execution_count": 56,
     "metadata": {},
     "output_type": "execute_result"
    }
   ],
   "source": [
    "3.0 * 31 / 10000\n",
    "a=np.array([[1,2],[2,3],[1,2]])\n",
    "np.sum(a,dtype=np.float)*3\n",
    "range(int(3.3))"
   ]
  },
  {
   "cell_type": "code",
   "execution_count": 9,
   "metadata": {},
   "outputs": [
    {
     "data": {
      "text/plain": [
       "3"
      ]
     },
     "execution_count": 9,
     "metadata": {},
     "output_type": "execute_result"
    }
   ],
   "source": [
    "t = (1,3,4)\n",
    "len(t)\n",
    "t[1]"
   ]
  },
  {
   "cell_type": "code",
   "execution_count": 1,
   "metadata": {
    "scrolled": true
   },
   "outputs": [
    {
     "data": {
      "text/plain": [
       "17.0"
      ]
     },
     "execution_count": 1,
     "metadata": {},
     "output_type": "execute_result"
    }
   ],
   "source": [
    "1088/64"
   ]
  },
  {
   "cell_type": "code",
   "execution_count": 9,
   "metadata": {},
   "outputs": [
    {
     "data": {
      "text/plain": [
       "0.5"
      ]
     },
     "execution_count": 9,
     "metadata": {},
     "output_type": "execute_result"
    }
   ],
   "source": [
    "544/32\n",
    "1*0.5"
   ]
  },
  {
   "cell_type": "code",
   "execution_count": 1,
   "metadata": {
    "collapsed": true
   },
   "outputs": [],
   "source": [
    "import numpy as np \n",
    "(a,b,c)=(3,40,5)\n",
    "\n",
    "(a,b,c)=[round(x*0.5) for x in [a,b,c]]\n"
   ]
  },
  {
   "cell_type": "code",
   "execution_count": 35,
   "metadata": {},
   "outputs": [
    {
     "data": {
      "text/plain": [
       "(2, 20, 2)"
      ]
     },
     "execution_count": 35,
     "metadata": {},
     "output_type": "execute_result"
    }
   ],
   "source": [
    "(a,b,c)"
   ]
  },
  {
   "cell_type": "code",
   "execution_count": 26,
   "metadata": {},
   "outputs": [
    {
     "data": {
      "text/plain": [
       "array([[[1., 1., 1.]],\n",
       "\n",
       "       [[1., 1., 1.]],\n",
       "\n",
       "       [[1., 1., 1.]]])"
      ]
     },
     "execution_count": 26,
     "metadata": {},
     "output_type": "execute_result"
    }
   ],
   "source": [
    "x=np.arange(20).reshape(20,1)\n",
    "m=np.ones((256,3))\n",
    "#m[x]\n",
    "m[x]\n",
    "m[np.arange(10)]\n",
    "m[x][range(3)]\n",
    "#m"
   ]
  },
  {
   "cell_type": "code",
   "execution_count": 53,
   "metadata": {},
   "outputs": [
    {
     "data": {
      "text/plain": [
       "True"
      ]
     },
     "execution_count": 53,
     "metadata": {},
     "output_type": "execute_result"
    }
   ],
   "source": [
    "a = \"aa\"\n",
    "isinstance(a,str)\n",
    "isinstance(bytes(a,encoding='utf-8'),bytes)"
   ]
  },
  {
   "cell_type": "code",
   "execution_count": 48,
   "metadata": {},
   "outputs": [
    {
     "data": {
      "text/plain": [
       "0"
      ]
     },
     "execution_count": 48,
     "metadata": {},
     "output_type": "execute_result"
    }
   ],
   "source": [
    "a=np.ones((3,3,3))\n",
    "b=np.arange(3)\n",
    "np.tile(b,(4,3,1))\n",
    "#np.tile(x,(1,4))\n",
    "10 >> 2 & 4"
   ]
  },
  {
   "cell_type": "code",
   "execution_count": 17,
   "metadata": {
    "collapsed": true
   },
   "outputs": [],
   "source": [
    "a=[1,3,34,434]\n",
    "b=[23,32,535,23]\n",
    "al=[]\n",
    "bl=[]\n",
    "\n",
    "al=[a for i in range(3)]\n",
    "bl=[b for i in range(3)]"
   ]
  },
  {
   "cell_type": "code",
   "execution_count": 19,
   "metadata": {},
   "outputs": [
    {
     "data": {
      "text/plain": [
       "[[[1, 3, 34, 434], [1, 3, 34, 434], [1, 3, 34, 434]],\n",
       " [[23, 32, 535, 23], [23, 32, 535, 23], [23, 32, 535, 23]]]"
      ]
     },
     "execution_count": 19,
     "metadata": {},
     "output_type": "execute_result"
    }
   ],
   "source": [
    "[al,bl]"
   ]
  },
  {
   "cell_type": "code",
   "execution_count": 43,
   "metadata": {},
   "outputs": [
    {
     "data": {
      "text/plain": [
       "[[1, 3, 34, 434], [23, 32, 535, 23]]"
      ]
     },
     "execution_count": 43,
     "metadata": {},
     "output_type": "execute_result"
    }
   ],
   "source": [
    "[x[1] for x in [al,bl]]"
   ]
  },
  {
   "cell_type": "code",
   "execution_count": 28,
   "metadata": {},
   "outputs": [
    {
     "data": {
      "text/plain": [
       "[[[1, 3, 34, 434], [1, 3, 34, 434], [1, 3, 34, 434]],\n",
       " [[23, 32, 535, 23], [23, 32, 535, 23], [23, 32, 535, 23]]]"
      ]
     },
     "execution_count": 28,
     "metadata": {},
     "output_type": "execute_result"
    }
   ],
   "source": [
    "[al,bl]"
   ]
  },
  {
   "cell_type": "code",
   "execution_count": 35,
   "metadata": {},
   "outputs": [
    {
     "data": {
      "text/plain": [
       "[([1, 3, 34, 434], [23, 32, 535, 23]),\n",
       " ([1, 3, 34, 434], [23, 32, 535, 23]),\n",
       " ([1, 3, 34, 434], [23, 32, 535, 23])]"
      ]
     },
     "execution_count": 35,
     "metadata": {},
     "output_type": "execute_result"
    }
   ],
   "source": [
    "x=list(zip(*[al,bl]))\n",
    "x"
   ]
  },
  {
   "cell_type": "code",
   "execution_count": 36,
   "metadata": {},
   "outputs": [
    {
     "data": {
      "text/plain": [
       "[([1, 3, 34, 434], [1, 3, 34, 434], [1, 3, 34, 434]),\n",
       " ([23, 32, 535, 23], [23, 32, 535, 23], [23, 32, 535, 23])]"
      ]
     },
     "execution_count": 36,
     "metadata": {},
     "output_type": "execute_result"
    }
   ],
   "source": [
    "list(zip(*x))"
   ]
  },
  {
   "cell_type": "code",
   "execution_count": 39,
   "metadata": {},
   "outputs": [
    {
     "data": {
      "text/plain": [
       "[([1, 3, 34, 434], [1, 3, 34, 434], [1, 3, 34, 434]),\n",
       " ([23, 32, 535, 23], [23, 32, 535, 23], [23, 32, 535, 23])]"
      ]
     },
     "execution_count": 39,
     "metadata": {},
     "output_type": "execute_result"
    }
   ],
   "source": [
    "list(zip(*x))"
   ]
  },
  {
   "cell_type": "code",
   "execution_count": 31,
   "metadata": {
    "scrolled": true
   },
   "outputs": [
    {
     "data": {
      "text/plain": [
       "[([[1, 3, 34, 434], [1, 3, 34, 434], [1, 3, 34, 434]],\n",
       "  [[23, 32, 535, 23], [23, 32, 535, 23], [23, 32, 535, 23]])]"
      ]
     },
     "execution_count": 31,
     "metadata": {},
     "output_type": "execute_result"
    }
   ],
   "source": [
    "list(zip(*list(zip([al,bl]))))"
   ]
  },
  {
   "cell_type": "code",
   "execution_count": 21,
   "metadata": {},
   "outputs": [
    {
     "name": "stdout",
     "output_type": "stream",
     "text": [
      "1\n",
      "(2, 3, 4)\n",
      "{'y': 1, 'a': 2, 'b': 3, 'c': 4}\n"
     ]
    }
   ],
   "source": [
    "def foo(x,*args,**kwargs):\n",
    "    print(x)\n",
    "    print(args)\n",
    "    print(kwargs)\n",
    "foo(1,2,3,4,y=1,a=2,b=3,c=4)"
   ]
  },
  {
   "cell_type": "code",
   "execution_count": 41,
   "metadata": {},
   "outputs": [
    {
     "data": {
      "text/plain": [
       "[('a', 'b'), ('b', 'c'), ('c', 'd'), ('d', 'e'), ('e', 'f')]"
      ]
     },
     "execution_count": 41,
     "metadata": {},
     "output_type": "execute_result"
    }
   ],
   "source": [
    "l = ['a', 'b', 'c', 'd', 'e','f']\n",
    "#打印列表\n",
    "list(zip(l[:-1],l[1:]))"
   ]
  },
  {
   "cell_type": "code",
   "execution_count": 42,
   "metadata": {},
   "outputs": [
    {
     "name": "stdout",
     "output_type": "stream",
     "text": [
      "('f', 'f', 'f')\n",
      "('l', 'l', 'l')\n",
      "('o', 'o', 'i')\n",
      "('w', 'w', 'g')\n"
     ]
    }
   ],
   "source": [
    "nums = ['flower','flow','flight']\n",
    "for i in zip(*nums):\n",
    "    print(i)"
   ]
  },
  {
   "cell_type": "code",
   "execution_count": 3,
   "metadata": {
    "scrolled": true
   },
   "outputs": [
    {
     "name": "stdout",
     "output_type": "stream",
     "text": [
      "where(condition, [x, y])\n",
      "\n",
      "Return elements, either from `x` or `y`, depending on `condition`.\n",
      "\n",
      "If only `condition` is given, return ``condition.nonzero()``.\n",
      "\n",
      "Parameters\n",
      "----------\n",
      "condition : array_like, bool\n",
      "    When True, yield `x`, otherwise yield `y`.\n",
      "x, y : array_like, optional\n",
      "    Values from which to choose. `x`, `y` and `condition` need to be\n",
      "    broadcastable to some shape.\n",
      "\n",
      "Returns\n",
      "-------\n",
      "out : ndarray or tuple of ndarrays\n",
      "    If both `x` and `y` are specified, the output array contains\n",
      "    elements of `x` where `condition` is True, and elements from\n",
      "    `y` elsewhere.\n",
      "\n",
      "    If only `condition` is given, return the tuple\n",
      "    ``condition.nonzero()``, the indices where `condition` is True.\n",
      "\n",
      "See Also\n",
      "--------\n",
      "nonzero, choose\n",
      "\n",
      "Notes\n",
      "-----\n",
      "If `x` and `y` are given and input arrays are 1-D, `where` is\n",
      "equivalent to::\n",
      "\n",
      "    [xv if c else yv for (c,xv,yv) in zip(condition,x,y)]\n",
      "\n",
      "Examples\n",
      "--------\n",
      ">>> np.where([[True, False], [True, True]],\n",
      "...          [[1, 2], [3, 4]],\n",
      "...          [[9, 8], [7, 6]])\n",
      "array([[1, 8],\n",
      "       [3, 4]])\n",
      "\n",
      ">>> np.where([[0, 1], [1, 0]])\n",
      "(array([0, 1]), array([1, 0]))\n",
      "\n",
      ">>> x = np.arange(9.).reshape(3, 3)\n",
      ">>> np.where( x > 5 )\n",
      "(array([2, 2, 2]), array([0, 1, 2]))\n",
      ">>> x[np.where( x > 3.0 )]               # Note: result is 1D.\n",
      "array([ 4.,  5.,  6.,  7.,  8.])\n",
      ">>> np.where(x < 5, x, -1)               # Note: broadcasting.\n",
      "array([[ 0.,  1.,  2.],\n",
      "       [ 3.,  4., -1.],\n",
      "       [-1., -1., -1.]])\n",
      "\n",
      "Find the indices of elements of `x` that are in `goodvalues`.\n",
      "\n",
      ">>> goodvalues = [3, 4, 7]\n",
      ">>> ix = np.isin(x, goodvalues)\n",
      ">>> ix\n",
      "array([[False, False, False],\n",
      "       [ True,  True, False],\n",
      "       [False,  True, False]])\n",
      ">>> np.where(ix)\n",
      "(array([1, 1, 2]), array([0, 1, 1]))\n"
     ]
    }
   ],
   "source": [
    "np.info(np.where)"
   ]
  },
  {
   "cell_type": "code",
   "execution_count": 12,
   "metadata": {},
   "outputs": [
    {
     "name": "stdout",
     "output_type": "stream",
     "text": [
      "np.where([True,False,True]):\n",
      "(array([0, 2], dtype=int64),)\n"
     ]
    }
   ],
   "source": [
    "print(\"np.where([True,False,True]):\\n{}\".format(np.where([True,False,True])))"
   ]
  },
  {
   "cell_type": "code",
   "execution_count": 11,
   "metadata": {
    "scrolled": true
   },
   "outputs": [
    {
     "name": "stdout",
     "output_type": "stream",
     "text": [
      "np.where([[True, False,  True],[False, True,  True]]):\n",
      "(array([0, 0, 1, 1], dtype=int64), array([0, 2, 1, 2], dtype=int64))\n"
     ]
    }
   ],
   "source": [
    "print(\"np.where([[True, False,  True],[False, True,  True]]):\\n{}\".\n",
    "      format(np.where([[True, False,  True],[False, True,  True]])))"
   ]
  },
  {
   "cell_type": "code",
   "execution_count": 1,
   "metadata": {},
   "outputs": [
    {
     "data": {
      "text/plain": [
       "('abc', '.jpg')"
      ]
     },
     "execution_count": 1,
     "metadata": {},
     "output_type": "execute_result"
    }
   ],
   "source": [
    "import os\n",
    "os.path.splitext(\"abc.jpg\")"
   ]
  },
  {
   "cell_type": "code",
   "execution_count": 4,
   "metadata": {},
   "outputs": [
    {
     "data": {
      "text/plain": [
       "True"
      ]
     },
     "execution_count": 4,
     "metadata": {},
     "output_type": "execute_result"
    }
   ],
   "source": [
    "bool(1)"
   ]
  },
  {
   "cell_type": "code",
   "execution_count": 9,
   "metadata": {},
   "outputs": [
    {
     "data": {
      "text/plain": [
       "datetime.datetime(2019, 3, 29, 8, 48, 49, 26300)"
      ]
     },
     "execution_count": 9,
     "metadata": {},
     "output_type": "execute_result"
    }
   ],
   "source": [
    "import datetime\n",
    "s=datetime.datetime.now()\n",
    "s"
   ]
  },
  {
   "cell_type": "code",
   "execution_count": 13,
   "metadata": {},
   "outputs": [
    {
     "name": "stdout",
     "output_type": "stream",
     "text": [
      "0:00:52.139551\n"
     ]
    }
   ],
   "source": [
    "x=datetime.datetime.now()-s\n",
    "x\n",
    "print(\"{}\".format(x))"
   ]
  },
  {
   "cell_type": "code",
   "execution_count": 6,
   "metadata": {},
   "outputs": [],
   "source": [
    "import time\n",
    "s=time.time()\n",
    "s"
   ]
  },
  {
   "cell_type": "code",
   "execution_count": 7,
   "metadata": {},
   "outputs": [
    {
     "data": {
      "text/plain": [
       "3.9866204261779785"
      ]
     },
     "execution_count": 7,
     "metadata": {},
     "output_type": "execute_result"
    }
   ],
   "source": [
    "e=time.time()\n",
    "e-s"
   ]
  },
  {
   "cell_type": "code",
   "execution_count": 7,
   "metadata": {},
   "outputs": [
    {
     "name": "stdout",
     "output_type": "stream",
     "text": [
      "0 0\n",
      "0 1\n",
      "0 2\n",
      "1 0\n",
      "1 1\n",
      "1 2\n",
      "2 0\n",
      "2 1\n",
      "2 2\n"
     ]
    }
   ],
   "source": [
    "from itertools import product as product\n",
    "\n",
    "for i,j in product(range(3), repeat=2):\n",
    "    print(i,j)"
   ]
  }
 ],
 "metadata": {
  "kernelspec": {
   "display_name": "Python 3",
   "language": "python",
   "name": "python3"
  },
  "language_info": {
   "codemirror_mode": {
    "name": "ipython",
    "version": 3
   },
   "file_extension": ".py",
   "mimetype": "text/x-python",
   "name": "python",
   "nbconvert_exporter": "python",
   "pygments_lexer": "ipython3",
   "version": "3.6.4"
  },
  "toc": {
   "base_numbering": 1,
   "nav_menu": {},
   "number_sections": true,
   "sideBar": true,
   "skip_h1_title": false,
   "title_cell": "Table of Contents",
   "title_sidebar": "Contents",
   "toc_cell": false,
   "toc_position": {},
   "toc_section_display": true,
   "toc_window_display": true
  }
 },
 "nbformat": 4,
 "nbformat_minor": 2
}
