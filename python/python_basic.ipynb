{
 "cells": [
  {
   "cell_type": "code",
   "execution_count": 1,
   "metadata": {
    "scrolled": true
   },
   "outputs": [
    {
     "data": {
      "text/plain": [
       "0.23947270838460089"
      ]
     },
     "execution_count": 1,
     "metadata": {},
     "output_type": "execute_result"
    }
   ],
   "source": [
    "import numpy as np\n",
    "np.random.random()"
   ]
  },
  {
   "cell_type": "code",
   "execution_count": 56,
   "metadata": {},
   "outputs": [
    {
     "data": {
      "text/plain": [
       "range(0, 3)"
      ]
     },
     "execution_count": 56,
     "metadata": {},
     "output_type": "execute_result"
    }
   ],
   "source": [
    "3.0 * 31 / 10000\n",
    "a=np.array([[1,2],[2,3],[1,2]])\n",
    "np.sum(a,dtype=np.float)*3\n",
    "range(int(3.3))"
   ]
  },
  {
   "cell_type": "code",
   "execution_count": 9,
   "metadata": {},
   "outputs": [
    {
     "data": {
      "text/plain": [
       "3"
      ]
     },
     "execution_count": 9,
     "metadata": {},
     "output_type": "execute_result"
    }
   ],
   "source": [
    "t = (1,3,4)\n",
    "len(t)\n",
    "t[1]"
   ]
  },
  {
   "cell_type": "code",
   "execution_count": 1,
   "metadata": {
    "scrolled": true
   },
   "outputs": [
    {
     "data": {
      "text/plain": [
       "17.0"
      ]
     },
     "execution_count": 1,
     "metadata": {},
     "output_type": "execute_result"
    }
   ],
   "source": [
    "1088/64"
   ]
  },
  {
   "cell_type": "code",
   "execution_count": 9,
   "metadata": {},
   "outputs": [
    {
     "data": {
      "text/plain": [
       "0.5"
      ]
     },
     "execution_count": 9,
     "metadata": {},
     "output_type": "execute_result"
    }
   ],
   "source": [
    "544/32\n",
    "1*0.5"
   ]
  },
  {
   "cell_type": "code",
   "execution_count": 1,
   "metadata": {
    "collapsed": true
   },
   "outputs": [],
   "source": [
    "import numpy as np \n",
    "(a,b,c)=(3,40,5)\n",
    "\n",
    "(a,b,c)=[round(x*0.5) for x in [a,b,c]]\n"
   ]
  },
  {
   "cell_type": "code",
   "execution_count": 35,
   "metadata": {},
   "outputs": [
    {
     "data": {
      "text/plain": [
       "(2, 20, 2)"
      ]
     },
     "execution_count": 35,
     "metadata": {},
     "output_type": "execute_result"
    }
   ],
   "source": [
    "(a,b,c)"
   ]
  },
  {
   "cell_type": "code",
   "execution_count": 26,
   "metadata": {},
   "outputs": [
    {
     "data": {
      "text/plain": [
       "array([[[1., 1., 1.]],\n",
       "\n",
       "       [[1., 1., 1.]],\n",
       "\n",
       "       [[1., 1., 1.]]])"
      ]
     },
     "execution_count": 26,
     "metadata": {},
     "output_type": "execute_result"
    }
   ],
   "source": [
    "x=np.arange(20).reshape(20,1)\n",
    "m=np.ones((256,3))\n",
    "#m[x]\n",
    "m[x]\n",
    "m[np.arange(10)]\n",
    "m[x][range(3)]\n",
    "#m"
   ]
  },
  {
   "cell_type": "code",
   "execution_count": 53,
   "metadata": {},
   "outputs": [
    {
     "data": {
      "text/plain": [
       "True"
      ]
     },
     "execution_count": 53,
     "metadata": {},
     "output_type": "execute_result"
    }
   ],
   "source": [
    "a = \"aa\"\n",
    "isinstance(a,str)\n",
    "isinstance(bytes(a,encoding='utf-8'),bytes)"
   ]
  },
  {
   "cell_type": "code",
   "execution_count": 48,
   "metadata": {},
   "outputs": [
    {
     "data": {
      "text/plain": [
       "0"
      ]
     },
     "execution_count": 48,
     "metadata": {},
     "output_type": "execute_result"
    }
   ],
   "source": [
    "a=np.ones((3,3,3))\n",
    "b=np.arange(3)\n",
    "np.tile(b,(4,3,1))\n",
    "#np.tile(x,(1,4))\n",
    "10 >> 2 & 4"
   ]
  },
  {
   "cell_type": "code",
   "execution_count": 17,
   "metadata": {
    "collapsed": true
   },
   "outputs": [],
   "source": [
    "a=[1,3,34,434]\n",
    "b=[23,32,535,23]\n",
    "al=[]\n",
    "bl=[]\n",
    "\n",
    "al=[a for i in range(3)]\n",
    "bl=[b for i in range(3)]"
   ]
  },
  {
   "cell_type": "code",
   "execution_count": 19,
   "metadata": {},
   "outputs": [
    {
     "data": {
      "text/plain": [
       "[[[1, 3, 34, 434], [1, 3, 34, 434], [1, 3, 34, 434]],\n",
       " [[23, 32, 535, 23], [23, 32, 535, 23], [23, 32, 535, 23]]]"
      ]
     },
     "execution_count": 19,
     "metadata": {},
     "output_type": "execute_result"
    }
   ],
   "source": [
    "[al,bl]"
   ]
  },
  {
   "cell_type": "code",
   "execution_count": 43,
   "metadata": {},
   "outputs": [
    {
     "data": {
      "text/plain": [
       "[[1, 3, 34, 434], [23, 32, 535, 23]]"
      ]
     },
     "execution_count": 43,
     "metadata": {},
     "output_type": "execute_result"
    }
   ],
   "source": [
    "[x[1] for x in [al,bl]]"
   ]
  },
  {
   "cell_type": "code",
   "execution_count": 28,
   "metadata": {},
   "outputs": [
    {
     "data": {
      "text/plain": [
       "[[[1, 3, 34, 434], [1, 3, 34, 434], [1, 3, 34, 434]],\n",
       " [[23, 32, 535, 23], [23, 32, 535, 23], [23, 32, 535, 23]]]"
      ]
     },
     "execution_count": 28,
     "metadata": {},
     "output_type": "execute_result"
    }
   ],
   "source": [
    "[al,bl]"
   ]
  },
  {
   "cell_type": "code",
   "execution_count": 35,
   "metadata": {},
   "outputs": [
    {
     "data": {
      "text/plain": [
       "[([1, 3, 34, 434], [23, 32, 535, 23]),\n",
       " ([1, 3, 34, 434], [23, 32, 535, 23]),\n",
       " ([1, 3, 34, 434], [23, 32, 535, 23])]"
      ]
     },
     "execution_count": 35,
     "metadata": {},
     "output_type": "execute_result"
    }
   ],
   "source": [
    "x=list(zip(*[al,bl]))\n",
    "x"
   ]
  },
  {
   "cell_type": "code",
   "execution_count": 36,
   "metadata": {},
   "outputs": [
    {
     "data": {
      "text/plain": [
       "[([1, 3, 34, 434], [1, 3, 34, 434], [1, 3, 34, 434]),\n",
       " ([23, 32, 535, 23], [23, 32, 535, 23], [23, 32, 535, 23])]"
      ]
     },
     "execution_count": 36,
     "metadata": {},
     "output_type": "execute_result"
    }
   ],
   "source": [
    "list(zip(*x))"
   ]
  },
  {
   "cell_type": "code",
   "execution_count": 39,
   "metadata": {},
   "outputs": [
    {
     "data": {
      "text/plain": [
       "[([1, 3, 34, 434], [1, 3, 34, 434], [1, 3, 34, 434]),\n",
       " ([23, 32, 535, 23], [23, 32, 535, 23], [23, 32, 535, 23])]"
      ]
     },
     "execution_count": 39,
     "metadata": {},
     "output_type": "execute_result"
    }
   ],
   "source": [
    "list(zip(*x))"
   ]
  },
  {
   "cell_type": "code",
   "execution_count": 31,
   "metadata": {
    "scrolled": true
   },
   "outputs": [
    {
     "data": {
      "text/plain": [
       "[([[1, 3, 34, 434], [1, 3, 34, 434], [1, 3, 34, 434]],\n",
       "  [[23, 32, 535, 23], [23, 32, 535, 23], [23, 32, 535, 23]])]"
      ]
     },
     "execution_count": 31,
     "metadata": {},
     "output_type": "execute_result"
    }
   ],
   "source": [
    "list(zip(*list(zip([al,bl]))))"
   ]
  },
  {
   "cell_type": "code",
   "execution_count": 21,
   "metadata": {},
   "outputs": [
    {
     "name": "stdout",
     "output_type": "stream",
     "text": [
      "1\n",
      "(2, 3, 4)\n",
      "{'y': 1, 'a': 2, 'b': 3, 'c': 4}\n"
     ]
    }
   ],
   "source": [
    "def foo(x,*args,**kwargs):\n",
    "    print(x)\n",
    "    print(args)\n",
    "    print(kwargs)\n",
    "foo(1,2,3,4,y=1,a=2,b=3,c=4)"
   ]
  },
  {
   "cell_type": "code",
   "execution_count": 41,
   "metadata": {},
   "outputs": [
    {
     "data": {
      "text/plain": [
       "[('a', 'b'), ('b', 'c'), ('c', 'd'), ('d', 'e'), ('e', 'f')]"
      ]
     },
     "execution_count": 41,
     "metadata": {},
     "output_type": "execute_result"
    }
   ],
   "source": [
    "l = ['a', 'b', 'c', 'd', 'e','f']\n",
    "#打印列表\n",
    "list(zip(l[:-1],l[1:]))"
   ]
  },
  {
   "cell_type": "code",
   "execution_count": 42,
   "metadata": {},
   "outputs": [
    {
     "name": "stdout",
     "output_type": "stream",
     "text": [
      "('f', 'f', 'f')\n",
      "('l', 'l', 'l')\n",
      "('o', 'o', 'i')\n",
      "('w', 'w', 'g')\n"
     ]
    }
   ],
   "source": [
    "nums = ['flower','flow','flight']\n",
    "for i in zip(*nums):\n",
    "    print(i)"
   ]
  },
  {
   "cell_type": "code",
   "execution_count": 3,
   "metadata": {
    "scrolled": true
   },
   "outputs": [
    {
     "name": "stdout",
     "output_type": "stream",
     "text": [
      "where(condition, [x, y])\n",
      "\n",
      "Return elements, either from `x` or `y`, depending on `condition`.\n",
      "\n",
      "If only `condition` is given, return ``condition.nonzero()``.\n",
      "\n",
      "Parameters\n",
      "----------\n",
      "condition : array_like, bool\n",
      "    When True, yield `x`, otherwise yield `y`.\n",
      "x, y : array_like, optional\n",
      "    Values from which to choose. `x`, `y` and `condition` need to be\n",
      "    broadcastable to some shape.\n",
      "\n",
      "Returns\n",
      "-------\n",
      "out : ndarray or tuple of ndarrays\n",
      "    If both `x` and `y` are specified, the output array contains\n",
      "    elements of `x` where `condition` is True, and elements from\n",
      "    `y` elsewhere.\n",
      "\n",
      "    If only `condition` is given, return the tuple\n",
      "    ``condition.nonzero()``, the indices where `condition` is True.\n",
      "\n",
      "See Also\n",
      "--------\n",
      "nonzero, choose\n",
      "\n",
      "Notes\n",
      "-----\n",
      "If `x` and `y` are given and input arrays are 1-D, `where` is\n",
      "equivalent to::\n",
      "\n",
      "    [xv if c else yv for (c,xv,yv) in zip(condition,x,y)]\n",
      "\n",
      "Examples\n",
      "--------\n",
      ">>> np.where([[True, False], [True, True]],\n",
      "...          [[1, 2], [3, 4]],\n",
      "...          [[9, 8], [7, 6]])\n",
      "array([[1, 8],\n",
      "       [3, 4]])\n",
      "\n",
      ">>> np.where([[0, 1], [1, 0]])\n",
      "(array([0, 1]), array([1, 0]))\n",
      "\n",
      ">>> x = np.arange(9.).reshape(3, 3)\n",
      ">>> np.where( x > 5 )\n",
      "(array([2, 2, 2]), array([0, 1, 2]))\n",
      ">>> x[np.where( x > 3.0 )]               # Note: result is 1D.\n",
      "array([ 4.,  5.,  6.,  7.,  8.])\n",
      ">>> np.where(x < 5, x, -1)               # Note: broadcasting.\n",
      "array([[ 0.,  1.,  2.],\n",
      "       [ 3.,  4., -1.],\n",
      "       [-1., -1., -1.]])\n",
      "\n",
      "Find the indices of elements of `x` that are in `goodvalues`.\n",
      "\n",
      ">>> goodvalues = [3, 4, 7]\n",
      ">>> ix = np.isin(x, goodvalues)\n",
      ">>> ix\n",
      "array([[False, False, False],\n",
      "       [ True,  True, False],\n",
      "       [False,  True, False]])\n",
      ">>> np.where(ix)\n",
      "(array([1, 1, 2]), array([0, 1, 1]))\n"
     ]
    }
   ],
   "source": [
    "np.info(np.where)"
   ]
  },
  {
   "cell_type": "code",
   "execution_count": 12,
   "metadata": {},
   "outputs": [
    {
     "name": "stdout",
     "output_type": "stream",
     "text": [
      "np.where([True,False,True]):\n",
      "(array([0, 2], dtype=int64),)\n"
     ]
    }
   ],
   "source": [
    "print(\"np.where([True,False,True]):\\n{}\".format(np.where([True,False,True])))"
   ]
  },
  {
   "cell_type": "code",
   "execution_count": 11,
   "metadata": {
    "scrolled": true
   },
   "outputs": [
    {
     "name": "stdout",
     "output_type": "stream",
     "text": [
      "np.where([[True, False,  True],[False, True,  True]]):\n",
      "(array([0, 0, 1, 1], dtype=int64), array([0, 2, 1, 2], dtype=int64))\n"
     ]
    }
   ],
   "source": [
    "print(\"np.where([[True, False,  True],[False, True,  True]]):\\n{}\".\n",
    "      format(np.where([[True, False,  True],[False, True,  True]])))"
   ]
  },
  {
   "cell_type": "code",
   "execution_count": 1,
   "metadata": {},
   "outputs": [
    {
     "data": {
      "text/plain": [
       "('abc', '.jpg')"
      ]
     },
     "execution_count": 1,
     "metadata": {},
     "output_type": "execute_result"
    }
   ],
   "source": [
    "import os\n",
    "os.path.splitext(\"abc.jpg\")"
   ]
  },
  {
   "cell_type": "code",
   "execution_count": 4,
   "metadata": {},
   "outputs": [
    {
     "data": {
      "text/plain": [
       "True"
      ]
     },
     "execution_count": 4,
     "metadata": {},
     "output_type": "execute_result"
    }
   ],
   "source": [
    "bool(1)"
   ]
  },
  {
   "cell_type": "code",
   "execution_count": 9,
   "metadata": {},
   "outputs": [
    {
     "data": {
      "text/plain": [
       "datetime.datetime(2019, 3, 29, 8, 48, 49, 26300)"
      ]
     },
     "execution_count": 9,
     "metadata": {},
     "output_type": "execute_result"
    }
   ],
   "source": [
    "import datetime\n",
    "s=datetime.datetime.now()\n",
    "s"
   ]
  },
  {
   "cell_type": "code",
   "execution_count": 13,
   "metadata": {},
   "outputs": [
    {
     "name": "stdout",
     "output_type": "stream",
     "text": [
      "0:00:52.139551\n"
     ]
    }
   ],
   "source": [
    "x=datetime.datetime.now()-s\n",
    "x\n",
    "print(\"{}\".format(x))"
   ]
  },
  {
   "cell_type": "code",
   "execution_count": 6,
   "metadata": {},
   "outputs": [],
   "source": [
    "import time\n",
    "s=time.time()\n",
    "s"
   ]
  },
  {
   "cell_type": "code",
   "execution_count": 7,
   "metadata": {},
   "outputs": [
    {
     "data": {
      "text/plain": [
       "3.9866204261779785"
      ]
     },
     "execution_count": 7,
     "metadata": {},
     "output_type": "execute_result"
    }
   ],
   "source": [
    "e=time.time()\n",
    "e-s"
   ]
  },
  {
   "cell_type": "code",
   "execution_count": 7,
   "metadata": {},
   "outputs": [
    {
     "name": "stdout",
     "output_type": "stream",
     "text": [
      "0 0\n",
      "0 1\n",
      "0 2\n",
      "1 0\n",
      "1 1\n",
      "1 2\n",
      "2 0\n",
      "2 1\n",
      "2 2\n"
     ]
    }
   ],
   "source": [
    "from itertools import product as product\n",
    "\n",
    "for i,j in product(range(3), repeat=2):\n",
    "    print(i,j)"
   ]
  },
  {
   "cell_type": "markdown",
   "metadata": {},
   "source": [
    "## 生成器"
   ]
  },
  {
   "cell_type": "code",
   "execution_count": 19,
   "metadata": {},
   "outputs": [],
   "source": [
    "import numpy as np\n",
    "import itertools\n",
    "def yield_test(n):  \n",
    "     for i in range(n):  \n",
    "          yield i+np.random.random()"
   ]
  },
  {
   "cell_type": "code",
   "execution_count": 8,
   "metadata": {},
   "outputs": [
    {
     "name": "stdout",
     "output_type": "stream",
     "text": [
      "0.6770437785322169\n",
      "1.8449117328676194\n",
      "2.417914562121438\n",
      "3.7449422469536433\n",
      "4.444378416634837\n"
     ]
    }
   ],
   "source": [
    "for i in yield_test(5):\n",
    "    print(i)"
   ]
  },
  {
   "cell_type": "code",
   "execution_count": 26,
   "metadata": {},
   "outputs": [],
   "source": [
    "a = itertools.islice(yield_test(5),5)"
   ]
  },
  {
   "cell_type": "code",
   "execution_count": 34,
   "metadata": {},
   "outputs": [],
   "source": [
    "for i  in a:\n",
    "    print(i)"
   ]
  },
  {
   "cell_type": "code",
   "execution_count": 23,
   "metadata": {},
   "outputs": [
    {
     "data": {
      "text/plain": [
       "<itertools.islice at 0x116545ea8>"
      ]
     },
     "execution_count": 23,
     "metadata": {},
     "output_type": "execute_result"
    }
   ],
   "source": [
    "a"
   ]
  },
  {
   "cell_type": "code",
   "execution_count": 12,
   "metadata": {},
   "outputs": [
    {
     "data": {
      "text/plain": [
       "[0.43761945414558323,\n",
       " 1.8245518760466073,\n",
       " 2.4961037647077253,\n",
       " 3.2222611664955814,\n",
       " 4.081428053552035]"
      ]
     },
     "execution_count": 12,
     "metadata": {},
     "output_type": "execute_result"
    }
   ],
   "source": [
    "a"
   ]
  },
  {
   "cell_type": "markdown",
   "metadata": {},
   "source": [
    "## 数据类型"
   ]
  },
  {
   "cell_type": "code",
   "execution_count": 7,
   "metadata": {},
   "outputs": [],
   "source": [
    "int,float\n",
    "x=1\n",
    "x=1.2\n"
   ]
  },
  {
   "cell_type": "code",
   "execution_count": 17,
   "metadata": {},
   "outputs": [],
   "source": [
    "x:float=1"
   ]
  },
  {
   "cell_type": "code",
   "execution_count": 18,
   "metadata": {},
   "outputs": [
    {
     "data": {
      "text/plain": [
       "int"
      ]
     },
     "execution_count": 18,
     "metadata": {},
     "output_type": "execute_result"
    }
   ],
   "source": [
    "type(x)"
   ]
  },
  {
   "cell_type": "code",
   "execution_count": 33,
   "metadata": {},
   "outputs": [
    {
     "name": "stdout",
     "output_type": "stream",
     "text": [
      "<class 'str'>\n"
     ]
    }
   ],
   "source": [
    "x = \"abc\"\n",
    "x = 'abc'\n",
    "x = 'a'\n",
    "print(type(x))"
   ]
  },
  {
   "cell_type": "code",
   "execution_count": 36,
   "metadata": {},
   "outputs": [
    {
     "ename": "TypeError",
     "evalue": "'str' object does not support item assignment",
     "traceback": [
      "\u001b[0;31m---------------------------------------------------------------------------\u001b[0m",
      "\u001b[0;31mTypeError\u001b[0m                                 Traceback (most recent call last)",
      "\u001b[0;32m<ipython-input-36-6101259b30de>\u001b[0m in \u001b[0;36m<module>\u001b[0;34m\u001b[0m\n\u001b[1;32m      1\u001b[0m \u001b[0mx\u001b[0m \u001b[0;34m=\u001b[0m \u001b[0;34m\"abc\"\u001b[0m\u001b[0;34m\u001b[0m\u001b[0m\n\u001b[0;32m----> 2\u001b[0;31m \u001b[0mx\u001b[0m\u001b[0;34m[\u001b[0m\u001b[0;36m0\u001b[0m\u001b[0;34m]\u001b[0m\u001b[0;34m=\u001b[0m\u001b[0;34m'a'\u001b[0m\u001b[0;34m\u001b[0m\u001b[0m\n\u001b[0m",
      "\u001b[0;31mTypeError\u001b[0m: 'str' object does not support item assignment"
     ],
     "output_type": "error"
    }
   ],
   "source": [
    "x = \"abc\"\n",
    "x.replace()"
   ]
  },
  {
   "cell_type": "code",
   "execution_count": 31,
   "metadata": {},
   "outputs": [
    {
     "data": {
      "text/plain": [
       "['d', 1, 2]"
      ]
     },
     "execution_count": 31,
     "metadata": {},
     "output_type": "execute_result"
    }
   ],
   "source": [
    "x"
   ]
  },
  {
   "cell_type": "code",
   "execution_count": 21,
   "metadata": {},
   "outputs": [],
   "source": [
    "x='a'"
   ]
  },
  {
   "cell_type": "code",
   "execution_count": 22,
   "metadata": {},
   "outputs": [
    {
     "name": "stdout",
     "output_type": "stream",
     "text": [
      "<class 'str'>\n"
     ]
    }
   ],
   "source": [
    "print(type(x))"
   ]
  },
  {
   "cell_type": "code",
   "execution_count": 28,
   "metadata": {},
   "outputs": [],
   "source": [
    "x = [1,2,3]\n",
    "x = ['1' for _ in range(5)]\n",
    "x = list(range(3))\n",
    "x[0] = 5"
   ]
  },
  {
   "cell_type": "code",
   "execution_count": 45,
   "metadata": {},
   "outputs": [
    {
     "name": "stdout",
     "output_type": "stream",
     "text": [
      "['1', '2', '3']\n",
      "['1', '2', '3']\n",
      "['1', '2', '3']\n"
     ]
    },
    {
     "data": {
      "text/plain": [
       "['1', '2', '3', '3', '8', '9', '8', '9']"
      ]
     },
     "execution_count": 45,
     "metadata": {},
     "output_type": "execute_result"
    }
   ],
   "source": [
    "x = ['1','2','3']\n",
    "for i in x:\n",
    "    print(x)\n",
    "x[-1] # '3'\n",
    "x[0:2]  # ['1', '2']\n",
    "x.append('3')  # ['1', '2', '3', '3']\n",
    "x.extend(['8','9']) # ['1', '2', '3', '3', '8', '9']\n"
   ]
  },
  {
   "cell_type": "code",
   "execution_count": 40,
   "metadata": {},
   "outputs": [
    {
     "data": {
      "text/plain": [
       "['1', '2']"
      ]
     },
     "execution_count": 40,
     "metadata": {},
     "output_type": "execute_result"
    }
   ],
   "source": [
    "x[0:2]"
   ]
  },
  {
   "cell_type": "code",
   "execution_count": 41,
   "metadata": {},
   "outputs": [
    {
     "data": {
      "text/plain": [
       "'3'"
      ]
     },
     "execution_count": 41,
     "metadata": {},
     "output_type": "execute_result"
    }
   ],
   "source": [
    "x[-1]"
   ]
  },
  {
   "cell_type": "code",
   "execution_count": 43,
   "metadata": {},
   "outputs": [],
   "source": [
    "x.extend(['8','9'])"
   ]
  },
  {
   "cell_type": "code",
   "execution_count": 44,
   "metadata": {},
   "outputs": [
    {
     "data": {
      "text/plain": [
       "['1', '2', '3', '3', '8', '9']"
      ]
     },
     "execution_count": 44,
     "metadata": {},
     "output_type": "execute_result"
    }
   ],
   "source": [
    "x"
   ]
  },
  {
   "cell_type": "code",
   "execution_count": 53,
   "metadata": {},
   "outputs": [],
   "source": [
    "x = (1,2,3)\n",
    "x = tuple((1,2,3))\n",
    "x = (1,)  # 一个元素需要逗号\n",
    "x = 1,2,3\n"
   ]
  },
  {
   "cell_type": "code",
   "execution_count": 56,
   "metadata": {},
   "outputs": [
    {
     "data": {
      "text/plain": [
       "(1, 2, 3)"
      ]
     },
     "execution_count": 56,
     "metadata": {},
     "output_type": "execute_result"
    }
   ],
   "source": [
    "x"
   ]
  },
  {
   "cell_type": "code",
   "execution_count": 59,
   "metadata": {},
   "outputs": [
    {
     "data": {
      "text/plain": [
       "[1, 2, 3]"
      ]
     },
     "execution_count": 59,
     "metadata": {},
     "output_type": "execute_result"
    }
   ],
   "source": [
    "x[0] # 1\n",
    "x[1:3]  # (2, 3)\n",
    "[i for i in x]  # [1, 2, 3]"
   ]
  },
  {
   "cell_type": "code",
   "execution_count": 49,
   "metadata": {},
   "outputs": [
    {
     "data": {
      "text/plain": [
       "1"
      ]
     },
     "execution_count": 49,
     "metadata": {},
     "output_type": "execute_result"
    }
   ],
   "source": [
    "x"
   ]
  },
  {
   "cell_type": "code",
   "execution_count": 75,
   "metadata": {
    "scrolled": true
   },
   "outputs": [
    {
     "data": {
      "text/plain": [
       "dict"
      ]
     },
     "execution_count": 75,
     "metadata": {},
     "output_type": "execute_result"
    }
   ],
   "source": [
    "x ={}\n",
    "x = dict()\n",
    "x = {'a':1,'b':2}\n",
    "x = dict({'a':1,'b':2})\n",
    "\n",
    "type(x)"
   ]
  },
  {
   "cell_type": "code",
   "execution_count": 67,
   "metadata": {},
   "outputs": [
    {
     "data": {
      "text/plain": [
       "dict"
      ]
     },
     "execution_count": 67,
     "metadata": {},
     "output_type": "execute_result"
    }
   ],
   "source": [
    "x = dict()\n",
    "type(x)"
   ]
  },
  {
   "cell_type": "code",
   "execution_count": 69,
   "metadata": {},
   "outputs": [
    {
     "data": {
      "text/plain": [
       "{'a': 1, 'b': 2}"
      ]
     },
     "execution_count": 69,
     "metadata": {},
     "output_type": "execute_result"
    }
   ],
   "source": [
    "x"
   ]
  },
  {
   "cell_type": "code",
   "execution_count": 63,
   "metadata": {},
   "outputs": [
    {
     "data": {
      "text/plain": [
       "{'a': 1, 'b': 2, 'c': 3}"
      ]
     },
     "execution_count": 63,
     "metadata": {},
     "output_type": "execute_result"
    }
   ],
   "source": [
    "x"
   ]
  },
  {
   "cell_type": "code",
   "execution_count": 64,
   "metadata": {},
   "outputs": [
    {
     "ename": "KeyError",
     "evalue": "'d'",
     "traceback": [
      "\u001b[0;31m---------------------------------------------------------------------------\u001b[0m",
      "\u001b[0;31mKeyError\u001b[0m                                  Traceback (most recent call last)",
      "\u001b[0;32m<ipython-input-64-9704d7c17da4>\u001b[0m in \u001b[0;36m<module>\u001b[0;34m\u001b[0m\n\u001b[0;32m----> 1\u001b[0;31m \u001b[0mx\u001b[0m\u001b[0;34m[\u001b[0m\u001b[0;34m'd'\u001b[0m\u001b[0;34m]\u001b[0m\u001b[0;34m\u001b[0m\u001b[0m\n\u001b[0m",
      "\u001b[0;31mKeyError\u001b[0m: 'd'"
     ],
     "output_type": "error"
    }
   ],
   "source": [
    "x['d']"
   ]
  },
  {
   "cell_type": "code",
   "execution_count": 76,
   "metadata": {},
   "outputs": [],
   "source": [
    "x['a']\n",
    "x['a'] = 0\n",
    "x['d'] = 5  # 新增一个key-value对"
   ]
  },
  {
   "cell_type": "code",
   "execution_count": 71,
   "metadata": {},
   "outputs": [
    {
     "data": {
      "text/plain": [
       "{'a': 0, 'b': 2, 'd': 5}"
      ]
     },
     "execution_count": 71,
     "metadata": {},
     "output_type": "execute_result"
    }
   ],
   "source": [
    "x"
   ]
  },
  {
   "cell_type": "code",
   "execution_count": 72,
   "metadata": {},
   "outputs": [
    {
     "ename": "KeyError",
     "evalue": "'e'",
     "traceback": [
      "\u001b[0;31m---------------------------------------------------------------------------\u001b[0m",
      "\u001b[0;31mKeyError\u001b[0m                                  Traceback (most recent call last)",
      "\u001b[0;32m<ipython-input-72-fbf962bcb721>\u001b[0m in \u001b[0;36m<module>\u001b[0;34m\u001b[0m\n\u001b[0;32m----> 1\u001b[0;31m \u001b[0mx\u001b[0m\u001b[0;34m[\u001b[0m\u001b[0;34m'e'\u001b[0m\u001b[0;34m]\u001b[0m\u001b[0;34m\u001b[0m\u001b[0m\n\u001b[0m",
      "\u001b[0;31mKeyError\u001b[0m: 'e'"
     ],
     "output_type": "error"
    }
   ],
   "source": [
    "x['e']"
   ]
  },
  {
   "cell_type": "code",
   "execution_count": 79,
   "metadata": {},
   "outputs": [
    {
     "name": "stdout",
     "output_type": "stream",
     "text": [
      "a 0\n",
      "b 2\n",
      "d 5\n"
     ]
    }
   ],
   "source": [
    "x.keys()  # dict_keys(['a', 'b', 'd'])\n",
    "x.values() # dict_values([0, 2, 5])\n",
    "x.items() # dict_items([('a', 0), ('b', 2), ('d', 5)])\n",
    "for k,v in x.items():\n",
    "    print(k,v)"
   ]
  },
  {
   "cell_type": "code",
   "execution_count": 80,
   "metadata": {},
   "outputs": [
    {
     "data": {
      "text/plain": [
       "defaultdict(int, {})"
      ]
     },
     "execution_count": 80,
     "metadata": {},
     "output_type": "execute_result"
    }
   ],
   "source": [
    "from collections import defaultdict\n",
    "x = defaultdict(int)\n",
    "x"
   ]
  },
  {
   "cell_type": "code",
   "execution_count": 81,
   "metadata": {},
   "outputs": [
    {
     "data": {
      "text/plain": [
       "0"
      ]
     },
     "execution_count": 81,
     "metadata": {},
     "output_type": "execute_result"
    }
   ],
   "source": [
    "x[0]"
   ]
  },
  {
   "cell_type": "code",
   "execution_count": 82,
   "metadata": {},
   "outputs": [
    {
     "data": {
      "text/plain": [
       "0"
      ]
     },
     "execution_count": 82,
     "metadata": {},
     "output_type": "execute_result"
    }
   ],
   "source": [
    "x['a']"
   ]
  },
  {
   "cell_type": "markdown",
   "metadata": {},
   "source": [
    "## 常用运算"
   ]
  },
  {
   "cell_type": "code",
   "execution_count": 83,
   "metadata": {},
   "outputs": [],
   "source": [
    "x = 'a' if 1>1 else 'b'"
   ]
  },
  {
   "cell_type": "code",
   "execution_count": 84,
   "metadata": {},
   "outputs": [
    {
     "data": {
      "text/plain": [
       "'b'"
      ]
     },
     "execution_count": 84,
     "metadata": {},
     "output_type": "execute_result"
    }
   ],
   "source": [
    "x"
   ]
  },
  {
   "cell_type": "code",
   "execution_count": 86,
   "metadata": {},
   "outputs": [
    {
     "name": "stdout",
     "output_type": "stream",
     "text": [
      "yes\n"
     ]
    }
   ],
   "source": [
    "x=100\n",
    "if x < 0:\n",
    "    print(0)\n",
    "elif x < 20:\n",
    "    print(20)\n",
    "elif x < 50:\n",
    "    print(50)\n",
    "else:\n",
    "    print('yes')"
   ]
  },
  {
   "cell_type": "code",
   "execution_count": 90,
   "metadata": {},
   "outputs": [],
   "source": [
    "x = list(range(10))[::-1]\n",
    "y = list(range(10))"
   ]
  },
  {
   "cell_type": "code",
   "execution_count": 92,
   "metadata": {},
   "outputs": [
    {
     "name": "stdout",
     "output_type": "stream",
     "text": [
      "9\n",
      "8\n",
      "7\n",
      "6\n",
      "5\n",
      "4\n",
      "3\n",
      "2\n",
      "1\n",
      "0\n"
     ]
    }
   ],
   "source": [
    "for i in x:\n",
    "    print(i)"
   ]
  },
  {
   "cell_type": "code",
   "execution_count": 93,
   "metadata": {},
   "outputs": [
    {
     "name": "stdout",
     "output_type": "stream",
     "text": [
      "0 9\n",
      "1 8\n",
      "2 7\n",
      "3 6\n",
      "4 5\n",
      "5 4\n",
      "6 3\n",
      "7 2\n",
      "8 1\n",
      "9 0\n"
     ]
    }
   ],
   "source": [
    "for i,e in enumerate(x):\n",
    "    print(i,e)"
   ]
  },
  {
   "cell_type": "code",
   "execution_count": 94,
   "metadata": {},
   "outputs": [
    {
     "name": "stdout",
     "output_type": "stream",
     "text": [
      "9 0\n",
      "8 1\n",
      "7 2\n",
      "6 3\n",
      "5 4\n",
      "4 5\n",
      "3 6\n",
      "2 7\n",
      "1 8\n",
      "0 9\n"
     ]
    }
   ],
   "source": [
    "for i,j in zip(x,y):\n",
    "    print(i,j)"
   ]
  },
  {
   "cell_type": "code",
   "execution_count": 95,
   "metadata": {},
   "outputs": [],
   "source": [
    "x = 1\n",
    "while x < 10:\n",
    "    x+=1"
   ]
  },
  {
   "cell_type": "code",
   "execution_count": 97,
   "metadata": {},
   "outputs": [],
   "source": [
    "import os\n",
    "dir_path=os.getcwd()"
   ]
  },
  {
   "cell_type": "code",
   "execution_count": 101,
   "metadata": {},
   "outputs": [
    {
     "name": "stdout",
     "output_type": "stream",
     "text": [
      "/Users/yizuotian/pyspace/notebook/python/cv2.ipynb\n",
      "/Users/yizuotian/pyspace/notebook/python/hog_sift_harr.ipynb\n",
      "/Users/yizuotian/pyspace/notebook/python/h5py基础.ipynb\n",
      "/Users/yizuotian/pyspace/notebook/python/video_utils.py\n",
      "/Users/yizuotian/pyspace/notebook/python/.DS_Store\n",
      "/Users/yizuotian/pyspace/notebook/python/skimage.transform.ipynb\n",
      "/Users/yizuotian/pyspace/notebook/python/numpy基础.ipynb\n",
      "/Users/yizuotian/pyspace/notebook/python/numpy广播.ipynb\n",
      "/Users/yizuotian/pyspace/notebook/python/pip_offline.md\n",
      "/Users/yizuotian/pyspace/notebook/python/python_basic.md\n",
      "/Users/yizuotian/pyspace/notebook/python/features.ipynb\n",
      "/Users/yizuotian/pyspace/notebook/python/pycocotools api测试.ipynb\n",
      "/Users/yizuotian/pyspace/notebook/python/sqlalchemy_test.py\n",
      "/Users/yizuotian/pyspace/notebook/python/__pycache__\n",
      "/Users/yizuotian/pyspace/notebook/python/visualize.py\n",
      "/Users/yizuotian/pyspace/notebook/python/test.py\n",
      "/Users/yizuotian/pyspace/notebook/python/font.py\n",
      "/Users/yizuotian/pyspace/notebook/python/gou.jpg\n",
      "/Users/yizuotian/pyspace/notebook/python/crawl_baidu_image.py\n",
      "/Users/yizuotian/pyspace/notebook/python/python_basic.ipynb\n",
      "/Users/yizuotian/pyspace/notebook/python/python_image_process.md\n",
      "/Users/yizuotian/pyspace/notebook/python/align\n",
      "/Users/yizuotian/pyspace/notebook/python/opencv\n",
      "/Users/yizuotian/pyspace/notebook/python/visualize.ipynb\n",
      "/Users/yizuotian/pyspace/notebook/python/numpy基础.md\n",
      "/Users/yizuotian/pyspace/notebook/python/conda_offline.md\n",
      "/Users/yizuotian/pyspace/notebook/python/geometry.py\n",
      "/Users/yizuotian/pyspace/notebook/python/draw_chinese_words.ipynb\n",
      "/Users/yizuotian/pyspace/notebook/python/visual.py\n",
      "/Users/yizuotian/pyspace/notebook/python/√.png\n",
      "/Users/yizuotian/pyspace/notebook/python/matplot.ipynb\n",
      "/Users/yizuotian/pyspace/notebook/python/.ipynb_checkpoints\n",
      "/Users/yizuotian/pyspace/notebook/python/geometry.ipynb\n",
      "/Users/yizuotian/pyspace/notebook/python/video_show_in_notebook.ipynb\n",
      "/Users/yizuotian/pyspace/notebook/python/cv2_photometric.ipynb\n",
      "/Users/yizuotian/pyspace/notebook/python/red_detector.py\n",
      "/Users/yizuotian/pyspace/notebook/python/numpy_nueron_network.md\n",
      "/Users/yizuotian/pyspace/notebook/python/py_test.ipynb\n",
      "/Users/yizuotian/pyspace/notebook/python/cv2_object_detect_aug.ipynb\n",
      "/Users/yizuotian/pyspace/notebook/python/all_words.txt\n"
     ]
    }
   ],
   "source": [
    "for file_name in os.listdir(dir_path):\n",
    "    file_path = os.path.join(dir_path,file_name)\n",
    "    print(file_path)\n"
   ]
  },
  {
   "cell_type": "code",
   "execution_count": 102,
   "metadata": {},
   "outputs": [
    {
     "data": {
      "text/plain": [
       "'all_words.txt'"
      ]
     },
     "execution_count": 102,
     "metadata": {},
     "output_type": "execute_result"
    }
   ],
   "source": [
    "os.path.basename(file_path)"
   ]
  },
  {
   "cell_type": "code",
   "execution_count": 103,
   "metadata": {},
   "outputs": [
    {
     "data": {
      "text/plain": [
       "'/Users/yizuotian/pyspace/notebook/python'"
      ]
     },
     "execution_count": 103,
     "metadata": {},
     "output_type": "execute_result"
    }
   ],
   "source": [
    "os.path.dirname(file_path)"
   ]
  },
  {
   "cell_type": "code",
   "execution_count": 104,
   "metadata": {},
   "outputs": [
    {
     "data": {
      "text/plain": [
       "'.txt'"
      ]
     },
     "execution_count": 104,
     "metadata": {},
     "output_type": "execute_result"
    }
   ],
   "source": [
    "os.path.splitext(file_path)[1]"
   ]
  },
  {
   "cell_type": "code",
   "execution_count": 106,
   "metadata": {},
   "outputs": [],
   "source": [
    "import codecs\n",
    "f = codecs.open(file_path,\n",
    "                        mode='r', encoding='utf-8')\n",
    "lines = f.readlines()\n",
    "f.close()"
   ]
  },
  {
   "cell_type": "code",
   "execution_count": 107,
   "metadata": {},
   "outputs": [
    {
     "data": {
      "text/plain": [
       "['A\\n',\n",
       " 'B\\n',\n",
       " 'C\\n',\n",
       " 'D\\n',\n",
       " 'E\\n',\n",
       " 'F\\n',\n",
       " 'G\\n',\n",
       " 'H\\n',\n",
       " 'I\\n',\n",
       " 'J\\n',\n",
       " 'K\\n',\n",
       " 'L\\n',\n",
       " 'M\\n',\n",
       " 'N\\n',\n",
       " 'O\\n',\n",
       " 'P\\n',\n",
       " 'Q\\n',\n",
       " 'R\\n',\n",
       " 'S\\n',\n",
       " 'T\\n',\n",
       " 'U\\n',\n",
       " 'V\\n',\n",
       " 'W\\n',\n",
       " 'X\\n',\n",
       " 'Y\\n',\n",
       " 'Z\\n',\n",
       " 'a\\n',\n",
       " 'b\\n',\n",
       " 'c\\n',\n",
       " 'd\\n',\n",
       " 'e\\n',\n",
       " 'f\\n',\n",
       " 'g\\n',\n",
       " 'h\\n',\n",
       " 'i\\n',\n",
       " 'j\\n',\n",
       " 'k\\n',\n",
       " 'l\\n',\n",
       " 'm\\n',\n",
       " 'n\\n',\n",
       " 'o\\n',\n",
       " 'p\\n',\n",
       " 'q\\n',\n",
       " 'r\\n',\n",
       " 's\\n',\n",
       " 't\\n',\n",
       " 'u\\n',\n",
       " 'v\\n',\n",
       " 'w\\n',\n",
       " 'x\\n',\n",
       " 'y\\n',\n",
       " 'z\\n',\n",
       " '\\x82\\n',\n",
       " '\\x83\\n',\n",
       " '\\x84\\n',\n",
       " '\\x86\\n',\n",
       " '\\x87\\n',\n",
       " '\\x88\\n',\n",
       " '\\x89\\n',\n",
       " '\\x8a\\n',\n",
       " '\\x8b\\n',\n",
       " '\\x8c\\n',\n",
       " '\\x91\\n',\n",
       " '\\x92\\n',\n",
       " '\\x93\\n',\n",
       " '\\x94\\n',\n",
       " '\\x96\\n',\n",
       " '\\x97\\n',\n",
       " '\\x98\\n',\n",
       " '\\x99\\n',\n",
       " '\\x9a\\n',\n",
       " '\\x9b\\n',\n",
       " '\\x9c\\n',\n",
       " '\\x9f\\n',\n",
       " '\\xad\\n',\n",
       " '¯\\n',\n",
       " '²\\n',\n",
       " '³\\n',\n",
       " 'µ\\n',\n",
       " '¹\\n',\n",
       " 'ß\\n',\n",
       " 'ƒ\\n',\n",
       " 'Ǎ\\n',\n",
       " 'ǎ\\n',\n",
       " 'ǐ\\n',\n",
       " 'Ǒ\\n',\n",
       " 'ǒ\\n',\n",
       " 'ǔ\\n',\n",
       " 'ǖ\\n',\n",
       " 'ǘ\\n',\n",
       " 'ǚ\\n',\n",
       " 'ǜ\\n',\n",
       " 'ǹ\\n',\n",
       " 'ɐ\\n',\n",
       " 'ɑ\\n',\n",
       " 'ɔ\\n',\n",
       " 'ɛ\\n',\n",
       " 'ɡ\\n',\n",
       " 'ɪ\\n',\n",
       " 'ɵ\\n',\n",
       " 'ʃ\\n',\n",
       " 'ʊ\\n',\n",
       " 'ʺ\\n',\n",
       " 'ˆ\\n',\n",
       " 'ˇ\\n',\n",
       " 'ˉ\\n',\n",
       " 'ˊ\\n',\n",
       " 'ˋ\\n',\n",
       " 'ˍ\\n',\n",
       " '˙\\n',\n",
       " '˜\\n',\n",
       " '̅\\n',\n",
       " 'Δ\\n',\n",
       " 'Ω\\n',\n",
       " 'μ\\n',\n",
       " 'Ё\\n',\n",
       " 'А\\n',\n",
       " 'Б\\n',\n",
       " 'В\\n',\n",
       " 'Г\\n',\n",
       " 'Д\\n',\n",
       " 'Е\\n',\n",
       " 'Ж\\n',\n",
       " 'З\\n',\n",
       " 'И\\n',\n",
       " 'Й\\n',\n",
       " 'К\\n',\n",
       " 'Л\\n',\n",
       " 'М\\n',\n",
       " 'Н\\n',\n",
       " 'О\\n',\n",
       " 'П\\n',\n",
       " 'Р\\n',\n",
       " 'С\\n',\n",
       " 'Т\\n',\n",
       " 'У\\n',\n",
       " 'Ф\\n',\n",
       " 'Х\\n',\n",
       " 'Ц\\n',\n",
       " 'Ч\\n',\n",
       " 'Ш\\n',\n",
       " 'Щ\\n',\n",
       " 'Ъ\\n',\n",
       " 'Ы\\n',\n",
       " 'Ь\\n',\n",
       " 'Э\\n',\n",
       " 'Ю\\n',\n",
       " 'Я\\n',\n",
       " 'а\\n',\n",
       " 'б\\n',\n",
       " 'в\\n',\n",
       " 'г\\n',\n",
       " 'д\\n',\n",
       " 'е\\n',\n",
       " 'ж\\n',\n",
       " 'з\\n',\n",
       " 'и\\n',\n",
       " 'й\\n',\n",
       " 'к\\n',\n",
       " 'л\\n',\n",
       " 'м\\n',\n",
       " 'н\\n',\n",
       " 'о\\n',\n",
       " 'п\\n',\n",
       " 'р\\n',\n",
       " 'с\\n',\n",
       " 'т\\n',\n",
       " 'у\\n',\n",
       " 'ф\\n',\n",
       " 'х\\n',\n",
       " 'ц\\n',\n",
       " 'ч\\n',\n",
       " 'ш\\n',\n",
       " 'щ\\n',\n",
       " 'ъ\\n',\n",
       " 'ы\\n',\n",
       " 'ь\\n',\n",
       " 'э\\n',\n",
       " 'ю\\n',\n",
       " 'я\\n',\n",
       " 'ё\\n',\n",
       " 'Ғ\\n',\n",
       " 'ғ\\n',\n",
       " 'Җ\\n',\n",
       " 'җ\\n',\n",
       " 'Ҙ\\n',\n",
       " 'ҙ\\n',\n",
       " 'Қ\\n',\n",
       " 'қ\\n',\n",
       " 'Ҝ\\n',\n",
       " 'ҝ\\n',\n",
       " 'Ҡ\\n',\n",
       " 'ҡ\\n',\n",
       " 'Ң\\n',\n",
       " 'ң\\n',\n",
       " 'Ҥ\\n',\n",
       " 'ҥ\\n',\n",
       " 'Ҫ\\n',\n",
       " 'ҫ\\n',\n",
       " 'Ү\\n',\n",
       " 'ү\\n',\n",
       " 'Ұ\\n',\n",
       " 'ұ\\n',\n",
       " 'Ҳ\\n',\n",
       " 'ҳ\\n',\n",
       " 'Ҷ\\n',\n",
       " 'ҷ\\n',\n",
       " 'Ҹ\\n',\n",
       " 'ҹ\\n',\n",
       " 'Һ\\n',\n",
       " 'һ\\n',\n",
       " 'Ә\\n',\n",
       " 'Ӣ\\n',\n",
       " 'ӣ\\n',\n",
       " 'Ө\\n',\n",
       " 'ө\\n',\n",
       " 'Ӯ\\n',\n",
       " '،\\n',\n",
       " '؛\\n',\n",
       " '؟\\n',\n",
       " 'ئ\\n',\n",
       " 'ا\\n',\n",
       " 'ب\\n',\n",
       " 'ت\\n',\n",
       " 'ج\\n',\n",
       " 'ح\\n',\n",
       " 'خ\\n',\n",
       " 'د\\n',\n",
       " 'ر\\n',\n",
       " 'ز\\n',\n",
       " 'س\\n',\n",
       " 'ش\\n',\n",
       " 'ع\\n',\n",
       " 'غ\\n',\n",
       " 'ـ\\n',\n",
       " 'ف\\n',\n",
       " 'ق\\n',\n",
       " 'ك\\n',\n",
       " 'ل\\n',\n",
       " 'م\\n',\n",
       " 'ن\\n',\n",
       " 'ه\\n',\n",
       " 'و\\n',\n",
       " 'ى\\n',\n",
       " 'ي\\n',\n",
       " 'ٴ\\n',\n",
       " 'ٵ\\n',\n",
       " 'ٶ\\n',\n",
       " 'ٷ\\n',\n",
       " 'ٸ\\n',\n",
       " 'پ\\n',\n",
       " 'چ\\n',\n",
       " 'ژ\\n',\n",
       " 'ک\\n',\n",
       " 'ڭ\\n',\n",
       " 'گ\\n',\n",
       " 'ھ\\n',\n",
       " 'ۅ\\n',\n",
       " 'ۆ\\n',\n",
       " 'ۇ\\n',\n",
       " 'ۈ\\n',\n",
       " 'ۉ\\n',\n",
       " 'ۋ\\n',\n",
       " 'ی\\n',\n",
       " 'ې\\n',\n",
       " 'ە\\n',\n",
       " 'ༀ\\n',\n",
       " '༁\\n',\n",
       " '༂\\n',\n",
       " '༃\\n',\n",
       " '༄\\n',\n",
       " '༅\\n',\n",
       " '༆\\n',\n",
       " '༇\\n',\n",
       " '༈\\n',\n",
       " '༉\\n',\n",
       " '༊\\n',\n",
       " '་\\n',\n",
       " '༌\\n',\n",
       " '།\\n',\n",
       " '༎\\n',\n",
       " '༏\\n',\n",
       " '༐\\n',\n",
       " '༑\\n',\n",
       " '༒\\n',\n",
       " '༓\\n',\n",
       " '༔\\n',\n",
       " '༕\\n',\n",
       " '༖\\n',\n",
       " '༗\\n',\n",
       " '༘\\n',\n",
       " '༙\\n',\n",
       " '༚\\n',\n",
       " '༛\\n',\n",
       " '༜\\n',\n",
       " '༝\\n',\n",
       " '༞\\n',\n",
       " '༟\\n',\n",
       " '༠\\n',\n",
       " '༡\\n',\n",
       " '༢\\n',\n",
       " '༣\\n',\n",
       " '༤\\n',\n",
       " '༥\\n',\n",
       " '༦\\n',\n",
       " '༧\\n',\n",
       " '༨\\n',\n",
       " '༩\\n',\n",
       " '༪\\n',\n",
       " '༫\\n',\n",
       " '༬\\n',\n",
       " '༭\\n',\n",
       " '༮\\n',\n",
       " '༯\\n',\n",
       " '༰\\n',\n",
       " '༱\\n',\n",
       " '༲\\n',\n",
       " '༳\\n',\n",
       " '༴\\n',\n",
       " '༵\\n',\n",
       " '༶\\n',\n",
       " '༷\\n',\n",
       " '༸\\n',\n",
       " '༹\\n',\n",
       " '༺\\n',\n",
       " '༻\\n',\n",
       " '༼\\n',\n",
       " '༽\\n',\n",
       " '༾\\n',\n",
       " '༿\\n',\n",
       " 'ཀ\\n',\n",
       " 'ཁ\\n',\n",
       " 'ག\\n',\n",
       " 'གྷ\\n',\n",
       " 'ང\\n',\n",
       " 'ཅ\\n',\n",
       " 'ཆ\\n',\n",
       " 'ཇ\\n',\n",
       " 'ཉ\\n',\n",
       " 'ཊ\\n',\n",
       " 'ཋ\\n',\n",
       " 'ཌ\\n',\n",
       " 'ཌྷ\\n',\n",
       " 'ཎ\\n',\n",
       " 'ཏ\\n',\n",
       " 'ཐ\\n',\n",
       " 'ད\\n',\n",
       " 'དྷ\\n',\n",
       " 'ན\\n',\n",
       " 'པ\\n',\n",
       " 'ཕ\\n',\n",
       " 'བ\\n',\n",
       " 'བྷ\\n',\n",
       " 'མ\\n',\n",
       " 'ཙ\\n',\n",
       " 'ཚ\\n',\n",
       " 'ཛ\\n',\n",
       " 'ཛྷ\\n',\n",
       " 'ཝ\\n',\n",
       " 'ཞ\\n',\n",
       " 'ཟ\\n',\n",
       " 'འ\\n',\n",
       " 'ཡ\\n',\n",
       " 'ར\\n',\n",
       " 'ལ\\n',\n",
       " 'ཤ\\n',\n",
       " 'ཥ\\n',\n",
       " 'ས\\n',\n",
       " 'ཧ\\n',\n",
       " 'ཨ\\n',\n",
       " 'ཀྵ\\n',\n",
       " 'ཪ\\n',\n",
       " 'ཱ\\n',\n",
       " 'ི\\n',\n",
       " 'ཱི\\n',\n",
       " 'ུ\\n',\n",
       " 'ཱུ\\n',\n",
       " 'ྲྀ\\n',\n",
       " 'ཷ\\n',\n",
       " 'ླྀ\\n',\n",
       " 'ཹ\\n',\n",
       " 'ེ\\n',\n",
       " 'ཻ\\n',\n",
       " 'ོ\\n',\n",
       " 'ཽ\\n',\n",
       " 'ཾ\\n',\n",
       " 'ཿ\\n',\n",
       " 'ྀ\\n',\n",
       " 'ཱྀ\\n',\n",
       " 'ྂ\\n',\n",
       " 'ྃ\\n',\n",
       " '྄\\n',\n",
       " '྅\\n',\n",
       " '྆\\n',\n",
       " '྇\\n',\n",
       " 'ྈ\\n',\n",
       " 'ྉ\\n',\n",
       " 'ྊ\\n',\n",
       " 'ྋ\\n',\n",
       " 'ྐ\\n',\n",
       " 'ྑ\\n',\n",
       " 'ྒ\\n',\n",
       " 'ྒྷ\\n',\n",
       " 'ྔ\\n',\n",
       " 'ྕ\\n',\n",
       " 'ྖ\\n',\n",
       " 'ྗ\\n',\n",
       " 'ྙ\\n',\n",
       " 'ྚ\\n',\n",
       " 'ྛ\\n',\n",
       " 'ྜ\\n',\n",
       " 'ྜྷ\\n',\n",
       " 'ྞ\\n',\n",
       " 'ྟ\\n',\n",
       " 'ྠ\\n',\n",
       " 'ྡ\\n',\n",
       " 'ྡྷ\\n',\n",
       " 'ྣ\\n',\n",
       " 'ྤ\\n',\n",
       " 'ྥ\\n',\n",
       " 'ྦ\\n',\n",
       " 'ྦྷ\\n',\n",
       " 'ྨ\\n',\n",
       " 'ྩ\\n',\n",
       " 'ྪ\\n',\n",
       " 'ྫ\\n',\n",
       " 'ྫྷ\\n',\n",
       " 'ྭ\\n',\n",
       " 'ྮ\\n',\n",
       " 'ྯ\\n',\n",
       " 'ྰ\\n',\n",
       " 'ྱ\\n',\n",
       " 'ྲ\\n',\n",
       " 'ླ\\n',\n",
       " 'ྴ\\n',\n",
       " 'ྵ\\n',\n",
       " 'ྶ\\n',\n",
       " 'ྷ\\n',\n",
       " 'ྸ\\n',\n",
       " 'ྐྵ\\n',\n",
       " 'ྺ\\n',\n",
       " 'ྻ\\n',\n",
       " 'ྼ\\n',\n",
       " '྾\\n',\n",
       " '྿\\n',\n",
       " '࿀\\n',\n",
       " '࿁\\n',\n",
       " '࿂\\n',\n",
       " '࿃\\n',\n",
       " '࿄\\n',\n",
       " '࿅\\n',\n",
       " '࿆\\n',\n",
       " '࿇\\n',\n",
       " '࿈\\n',\n",
       " '࿉\\n',\n",
       " '࿊\\n',\n",
       " '࿋\\n',\n",
       " '࿌\\n',\n",
       " '࿏\\n',\n",
       " '᠀\\n',\n",
       " '᠁\\n',\n",
       " '᠂\\n',\n",
       " '᠃\\n',\n",
       " '᠄\\n',\n",
       " '᠅\\n',\n",
       " '᠆\\n',\n",
       " '᠇\\n',\n",
       " '᠈\\n',\n",
       " '᠉\\n',\n",
       " '᠊\\n',\n",
       " '᠋\\n',\n",
       " '᠌\\n',\n",
       " '᠍\\n',\n",
       " '\\u180e\\n',\n",
       " '᠐\\n',\n",
       " '᠑\\n',\n",
       " '᠒\\n',\n",
       " '᠓\\n',\n",
       " '᠔\\n',\n",
       " '᠕\\n',\n",
       " '᠖\\n',\n",
       " '᠗\\n',\n",
       " '᠘\\n',\n",
       " '᠙\\n',\n",
       " 'ᠠ\\n',\n",
       " 'ᠡ\\n',\n",
       " 'ᠢ\\n',\n",
       " 'ᠣ\\n',\n",
       " 'ᠤ\\n',\n",
       " 'ᠥ\\n',\n",
       " 'ᠦ\\n',\n",
       " 'ᠧ\\n',\n",
       " 'ᠨ\\n',\n",
       " 'ᠩ\\n',\n",
       " 'ᠪ\\n',\n",
       " 'ᠫ\\n',\n",
       " 'ᠬ\\n',\n",
       " 'ᠭ\\n',\n",
       " 'ᠮ\\n',\n",
       " 'ᠯ\\n',\n",
       " 'ᠰ\\n',\n",
       " 'ᠱ\\n',\n",
       " 'ᠲ\\n',\n",
       " 'ᠳ\\n',\n",
       " 'ᠴ\\n',\n",
       " 'ᠵ\\n',\n",
       " 'ᠶ\\n',\n",
       " 'ᠷ\\n',\n",
       " 'ᠸ\\n',\n",
       " 'ᠹ\\n',\n",
       " 'ᠺ\\n',\n",
       " 'ᠻ\\n',\n",
       " 'ᠼ\\n',\n",
       " 'ᠽ\\n',\n",
       " 'ᠾ\\n',\n",
       " 'ᠿ\\n',\n",
       " 'ᡀ\\n',\n",
       " 'ᡁ\\n',\n",
       " 'ᡂ\\n',\n",
       " 'ᡃ\\n',\n",
       " 'ᡄ\\n',\n",
       " 'ᡅ\\n',\n",
       " 'ᡆ\\n',\n",
       " 'ᡇ\\n',\n",
       " 'ᡈ\\n',\n",
       " 'ᡉ\\n',\n",
       " 'ᡊ\\n',\n",
       " 'ᡋ\\n',\n",
       " 'ᡌ\\n',\n",
       " 'ᡍ\\n',\n",
       " 'ᡎ\\n',\n",
       " 'ᡏ\\n',\n",
       " 'ᡐ\\n',\n",
       " 'ᡑ\\n',\n",
       " 'ᡒ\\n',\n",
       " 'ᡓ\\n',\n",
       " 'ᡔ\\n',\n",
       " 'ᡕ\\n',\n",
       " 'ᡖ\\n',\n",
       " 'ᡗ\\n',\n",
       " 'ᡘ\\n',\n",
       " 'ᡙ\\n',\n",
       " 'ᡚ\\n',\n",
       " 'ᡛ\\n',\n",
       " 'ᡜ\\n',\n",
       " 'ᡝ\\n',\n",
       " 'ᡞ\\n',\n",
       " 'ᡟ\\n',\n",
       " 'ᡠ\\n',\n",
       " 'ᡡ\\n',\n",
       " 'ᡢ\\n',\n",
       " 'ᡣ\\n',\n",
       " 'ᡤ\\n',\n",
       " 'ᡥ\\n',\n",
       " 'ᡦ\\n',\n",
       " 'ᡧ\\n',\n",
       " 'ᡨ\\n',\n",
       " 'ᡩ\\n',\n",
       " 'ᡪ\\n',\n",
       " 'ᡫ\\n',\n",
       " 'ᡬ\\n',\n",
       " 'ᡭ\\n',\n",
       " 'ᡮ\\n',\n",
       " 'ᡯ\\n',\n",
       " 'ᡰ\\n',\n",
       " 'ᡱ\\n',\n",
       " 'ᡲ\\n',\n",
       " 'ᡳ\\n',\n",
       " 'ᡴ\\n',\n",
       " 'ᡵ\\n',\n",
       " 'ᡶ\\n',\n",
       " 'ᡷ\\n',\n",
       " 'ᢀ\\n',\n",
       " 'ᢁ\\n',\n",
       " 'ᢂ\\n',\n",
       " 'ᢃ\\n',\n",
       " 'ᢄ\\n',\n",
       " 'ᢅ\\n',\n",
       " 'ᢆ\\n',\n",
       " 'ᢇ\\n',\n",
       " 'ᢈ\\n',\n",
       " 'ᢉ\\n',\n",
       " 'ᢊ\\n',\n",
       " 'ᢋ\\n',\n",
       " 'ᢌ\\n',\n",
       " 'ᢍ\\n',\n",
       " 'ᢎ\\n',\n",
       " 'ᢏ\\n',\n",
       " 'ᢐ\\n',\n",
       " 'ᢑ\\n',\n",
       " 'ᢒ\\n',\n",
       " 'ᢓ\\n',\n",
       " 'ᢔ\\n',\n",
       " 'ᢕ\\n',\n",
       " 'ᢖ\\n',\n",
       " 'ᢗ\\n',\n",
       " 'ᢘ\\n',\n",
       " 'ᢙ\\n',\n",
       " 'ᢚ\\n',\n",
       " 'ᢛ\\n',\n",
       " 'ᢜ\\n',\n",
       " 'ᢝ\\n',\n",
       " 'ᢞ\\n',\n",
       " 'ᢟ\\n',\n",
       " 'ᢠ\\n',\n",
       " 'ᢡ\\n',\n",
       " 'ᢢ\\n',\n",
       " 'ᢣ\\n',\n",
       " 'ᢤ\\n',\n",
       " 'ᢥ\\n',\n",
       " 'ᢦ\\n',\n",
       " 'ᢧ\\n',\n",
       " 'ᢨ\\n',\n",
       " 'ᢩ\\n',\n",
       " 'ḿ\\n',\n",
       " 'Ế\\n',\n",
       " 'ế\\n',\n",
       " 'Ề\\n',\n",
       " 'ề\\n',\n",
       " '‐\\n',\n",
       " '―\\n',\n",
       " '‖\\n',\n",
       " '‟\\n',\n",
       " '‥\\n',\n",
       " '‧\\n',\n",
       " '′\\n',\n",
       " '″\\n',\n",
       " '‵\\n',\n",
       " '※\\n',\n",
       " '‾\\n',\n",
       " '⁴\\n',\n",
       " 'ⁿ\\n',\n",
       " '₁\\n',\n",
       " '₂\\n',\n",
       " '₃\\n',\n",
       " '₄\\n',\n",
       " '₠\\n',\n",
       " '₢\\n',\n",
       " '₥\\n',\n",
       " '₦\\n',\n",
       " '₨\\n',\n",
       " '₩\\n',\n",
       " '₪\\n',\n",
       " '℃\\n',\n",
       " '℅\\n',\n",
       " '℉\\n',\n",
       " '№\\n',\n",
       " '℡\\n',\n",
       " 'Å\\n',\n",
       " 'Ⅰ\\n',\n",
       " 'Ⅱ\\n',\n",
       " 'Ⅲ\\n',\n",
       " 'Ⅳ\\n',\n",
       " 'Ⅴ\\n',\n",
       " 'Ⅵ\\n',\n",
       " 'Ⅶ\\n',\n",
       " 'Ⅷ\\n',\n",
       " 'Ⅸ\\n',\n",
       " 'Ⅹ\\n',\n",
       " 'Ⅺ\\n',\n",
       " 'Ⅻ\\n',\n",
       " 'ⅰ\\n',\n",
       " 'ⅱ\\n',\n",
       " 'ⅲ\\n',\n",
       " 'ⅳ\\n',\n",
       " 'ⅴ\\n',\n",
       " 'ⅵ\\n',\n",
       " 'ⅶ\\n',\n",
       " 'ⅷ\\n',\n",
       " 'ⅸ\\n',\n",
       " 'ⅹ\\n',\n",
       " 'ⅺ\\n',\n",
       " 'ⅻ\\n',\n",
       " '→\\n',\n",
       " '↖\\n',\n",
       " '↗\\n',\n",
       " '↘\\n',\n",
       " '↙\\n',\n",
       " '↸\\n',\n",
       " '↹\\n',\n",
       " '⇧\\n',\n",
       " '∕\\n',\n",
       " '∖\\n',\n",
       " '∘\\n',\n",
       " '∙\\n',\n",
       " '∟\\n',\n",
       " '∣\\n',\n",
       " '∥\\n',\n",
       " '∬\\n',\n",
       " '∮\\n',\n",
       " '∵\\n',\n",
       " '∶\\n',\n",
       " '∷\\n',\n",
       " '∽\\n',\n",
       " '≌\\n',\n",
       " '≒\\n',\n",
       " '≣\\n',\n",
       " '≦\\n',\n",
       " '≧\\n',\n",
       " '≪\\n',\n",
       " '≫\\n',\n",
       " '≮\\n',\n",
       " '≯\\n',\n",
       " '⊙\\n',\n",
       " '⊿\\n',\n",
       " '⌇\\n',\n",
       " '⌒\\n',\n",
       " '␀\\n',\n",
       " '␁\\n',\n",
       " '␂\\n',\n",
       " '␃\\n',\n",
       " '␄\\n',\n",
       " '␅\\n',\n",
       " '␆\\n',\n",
       " '␇\\n',\n",
       " '␈\\n',\n",
       " '␉\\n',\n",
       " '␊\\n',\n",
       " '␋\\n',\n",
       " '␌\\n',\n",
       " '␍\\n',\n",
       " '␎\\n',\n",
       " '␏\\n',\n",
       " '␐\\n',\n",
       " '␑\\n',\n",
       " '␒\\n',\n",
       " '␓\\n',\n",
       " '␔\\n',\n",
       " '␕\\n',\n",
       " '␖\\n',\n",
       " '␗\\n',\n",
       " '␘\\n',\n",
       " '␙\\n',\n",
       " '␚\\n',\n",
       " '␛\\n',\n",
       " '␜\\n',\n",
       " '␝\\n',\n",
       " '␞\\n',\n",
       " '␟\\n',\n",
       " '␠\\n',\n",
       " '␡\\n',\n",
       " '␢\\n',\n",
       " '␣\\n',\n",
       " '␤\\n',\n",
       " '␥\\n',\n",
       " '␦\\n',\n",
       " '①\\n',\n",
       " '②\\n',\n",
       " '③\\n',\n",
       " '④\\n',\n",
       " '⑤\\n',\n",
       " '⑥\\n',\n",
       " '⑦\\n',\n",
       " '⑧\\n',\n",
       " '⑨\\n',\n",
       " '⑩\\n',\n",
       " '⑪\\n',\n",
       " '⑫\\n',\n",
       " '⑬\\n',\n",
       " '⑭\\n',\n",
       " '⑮\\n',\n",
       " '⑯\\n',\n",
       " '⑰\\n',\n",
       " '⑱\\n',\n",
       " '⑲\\n',\n",
       " '⑳\\n',\n",
       " '⑴\\n',\n",
       " '⑵\\n',\n",
       " '⑶\\n',\n",
       " '⑷\\n',\n",
       " '⑸\\n',\n",
       " '⑹\\n',\n",
       " '⑺\\n',\n",
       " '⑻\\n',\n",
       " '⑼\\n',\n",
       " '⑽\\n',\n",
       " '⑾\\n',\n",
       " '⑿\\n',\n",
       " '⒀\\n',\n",
       " '⒁\\n',\n",
       " '⒂\\n',\n",
       " '⒃\\n',\n",
       " '⒄\\n',\n",
       " '⒅\\n',\n",
       " '⒆\\n',\n",
       " '⒇\\n',\n",
       " '⒈\\n',\n",
       " '⒉\\n',\n",
       " '⒊\\n',\n",
       " '⒋\\n',\n",
       " '⒌\\n',\n",
       " '⒍\\n',\n",
       " '⒎\\n',\n",
       " '⒏\\n',\n",
       " '⒐\\n',\n",
       " '⒑\\n',\n",
       " '⒒\\n',\n",
       " '⒓\\n',\n",
       " '⒔\\n',\n",
       " '⒕\\n',\n",
       " '⒖\\n',\n",
       " '⒗\\n',\n",
       " '⒘\\n',\n",
       " '⒙\\n',\n",
       " '⒚\\n',\n",
       " '⒛\\n',\n",
       " '⒜\\n',\n",
       " '⒝\\n',\n",
       " '⒞\\n',\n",
       " '⒟\\n',\n",
       " '⒠\\n',\n",
       " '⒡\\n',\n",
       " '⒢\\n',\n",
       " '⒣\\n',\n",
       " '⒤\\n',\n",
       " '⒥\\n',\n",
       " '⒦\\n',\n",
       " '⒧\\n',\n",
       " '⒨\\n',\n",
       " '⒩\\n',\n",
       " '⒪\\n',\n",
       " '⒫\\n',\n",
       " '⒬\\n',\n",
       " '⒭\\n',\n",
       " '⒮\\n',\n",
       " '⒯\\n',\n",
       " '⒰\\n',\n",
       " '⒱\\n',\n",
       " '⒲\\n',\n",
       " '⒳\\n',\n",
       " '⒴\\n',\n",
       " '⒵\\n',\n",
       " 'Ⓐ\\n',\n",
       " 'Ⓑ\\n',\n",
       " 'Ⓒ\\n',\n",
       " 'Ⓓ\\n',\n",
       " 'Ⓔ\\n',\n",
       " 'Ⓕ\\n',\n",
       " 'Ⓖ\\n',\n",
       " 'Ⓗ\\n',\n",
       " 'Ⓘ\\n',\n",
       " 'Ⓙ\\n',\n",
       " 'Ⓚ\\n',\n",
       " 'Ⓛ\\n',\n",
       " 'Ⓜ\\n',\n",
       " 'Ⓝ\\n',\n",
       " 'Ⓞ\\n',\n",
       " 'Ⓟ\\n',\n",
       " 'Ⓠ\\n',\n",
       " 'Ⓡ\\n',\n",
       " 'Ⓢ\\n',\n",
       " 'Ⓣ\\n',\n",
       " 'Ⓤ\\n',\n",
       " 'Ⓥ\\n',\n",
       " 'Ⓦ\\n',\n",
       " 'Ⓧ\\n',\n",
       " 'Ⓨ\\n',\n",
       " 'Ⓩ\\n',\n",
       " 'ⓐ\\n',\n",
       " 'ⓑ\\n',\n",
       " 'ⓒ\\n',\n",
       " 'ⓓ\\n',\n",
       " 'ⓔ\\n',\n",
       " 'ⓕ\\n',\n",
       " 'ⓖ\\n',\n",
       " 'ⓗ\\n',\n",
       " 'ⓘ\\n',\n",
       " 'ⓙ\\n',\n",
       " 'ⓚ\\n',\n",
       " 'ⓛ\\n',\n",
       " 'ⓜ\\n',\n",
       " 'ⓝ\\n',\n",
       " 'ⓞ\\n',\n",
       " 'ⓟ\\n',\n",
       " 'ⓠ\\n',\n",
       " 'ⓡ\\n',\n",
       " 'ⓢ\\n',\n",
       " 'ⓣ\\n',\n",
       " 'ⓤ\\n',\n",
       " 'ⓥ\\n',\n",
       " 'ⓦ\\n',\n",
       " 'ⓧ\\n',\n",
       " 'ⓨ\\n',\n",
       " 'ⓩ\\n',\n",
       " '⓪\\n',\n",
       " '━\\n',\n",
       " '┃\\n',\n",
       " '┄\\n',\n",
       " '┅\\n',\n",
       " '┆\\n',\n",
       " '┇\\n',\n",
       " '┈\\n',\n",
       " '┉\\n',\n",
       " '┊\\n',\n",
       " '┋\\n',\n",
       " '┍\\n',\n",
       " '┎\\n',\n",
       " '┏\\n',\n",
       " '┑\\n',\n",
       " '┒\\n',\n",
       " '┓\\n',\n",
       " '┕\\n',\n",
       " '┖\\n',\n",
       " '┗\\n',\n",
       " '┙\\n',\n",
       " '┚\\n',\n",
       " '┛\\n',\n",
       " '┝\\n',\n",
       " '┞\\n',\n",
       " '┟\\n',\n",
       " '┠\\n',\n",
       " '┡\\n',\n",
       " '┢\\n',\n",
       " '┣\\n',\n",
       " '┥\\n',\n",
       " '┦\\n',\n",
       " '┧\\n',\n",
       " '┨\\n',\n",
       " '┩\\n',\n",
       " '┪\\n',\n",
       " '┫\\n',\n",
       " '┭\\n',\n",
       " '┮\\n',\n",
       " '┯\\n',\n",
       " '┰\\n',\n",
       " '┱\\n',\n",
       " '┲\\n',\n",
       " '┳\\n',\n",
       " '┵\\n',\n",
       " '┶\\n',\n",
       " '┷\\n',\n",
       " '┸\\n',\n",
       " '┹\\n',\n",
       " '┺\\n',\n",
       " '┻\\n',\n",
       " '┽\\n',\n",
       " '┾\\n',\n",
       " '┿\\n',\n",
       " '╀\\n',\n",
       " '╁\\n',\n",
       " '╂\\n',\n",
       " '╃\\n',\n",
       " '╄\\n',\n",
       " '╅\\n',\n",
       " '╆\\n',\n",
       " '╇\\n',\n",
       " '╈\\n',\n",
       " '╉\\n',\n",
       " '╊\\n',\n",
       " '╋\\n',\n",
       " '╭\\n',\n",
       " '╮\\n',\n",
       " '╯\\n',\n",
       " '╰\\n',\n",
       " '╱\\n',\n",
       " '╲\\n',\n",
       " '╳\\n',\n",
       " '╴\\n',\n",
       " '▁\\n',\n",
       " '▂\\n',\n",
       " '▃\\n',\n",
       " '▅\\n',\n",
       " '▆\\n',\n",
       " '▇\\n',\n",
       " '▉\\n',\n",
       " '▊\\n',\n",
       " '▋\\n',\n",
       " '▍\\n',\n",
       " '▎\\n',\n",
       " '▏\\n',\n",
       " '▔\\n',\n",
       " '▕\\n',\n",
       " '■\\n',\n",
       " '□\\n',\n",
       " '▣\\n',\n",
       " '▤\\n',\n",
       " '▥\\n',\n",
       " '▦\\n',\n",
       " '▧\\n',\n",
       " '▨\\n',\n",
       " '▩\\n',\n",
       " '▲\\n',\n",
       " '△\\n',\n",
       " '▶\\n',\n",
       " '▷\\n',\n",
       " '▼\\n',\n",
       " '▽\\n',\n",
       " '◀\\n',\n",
       " '◁\\n',\n",
       " '◆\\n',\n",
       " '◇\\n',\n",
       " '◈\\n',\n",
       " '◎\\n',\n",
       " '●\\n',\n",
       " '◐\\n',\n",
       " '◑\\n',\n",
       " '◢\\n',\n",
       " '◣\\n',\n",
       " '◤\\n',\n",
       " '◥\\n',\n",
       " ...]"
      ]
     },
     "execution_count": 107,
     "metadata": {},
     "output_type": "execute_result"
    }
   ],
   "source": [
    "lines"
   ]
  },
  {
   "cell_type": "code",
   "execution_count": 108,
   "metadata": {},
   "outputs": [],
   "source": [
    "with codecs.open(file_path,\n",
    "                        mode='r', encoding='utf-8') as f:\n",
    "    lines = f.readlines()\n"
   ]
  },
  {
   "cell_type": "code",
   "execution_count": 109,
   "metadata": {},
   "outputs": [
    {
     "data": {
      "text/plain": [
       "['A\\n',\n",
       " 'B\\n',\n",
       " 'C\\n',\n",
       " 'D\\n',\n",
       " 'E\\n',\n",
       " 'F\\n',\n",
       " 'G\\n',\n",
       " 'H\\n',\n",
       " 'I\\n',\n",
       " 'J\\n',\n",
       " 'K\\n',\n",
       " 'L\\n',\n",
       " 'M\\n',\n",
       " 'N\\n',\n",
       " 'O\\n',\n",
       " 'P\\n',\n",
       " 'Q\\n',\n",
       " 'R\\n',\n",
       " 'S\\n',\n",
       " 'T\\n',\n",
       " 'U\\n',\n",
       " 'V\\n',\n",
       " 'W\\n',\n",
       " 'X\\n',\n",
       " 'Y\\n',\n",
       " 'Z\\n',\n",
       " 'a\\n',\n",
       " 'b\\n',\n",
       " 'c\\n',\n",
       " 'd\\n',\n",
       " 'e\\n',\n",
       " 'f\\n',\n",
       " 'g\\n',\n",
       " 'h\\n',\n",
       " 'i\\n',\n",
       " 'j\\n',\n",
       " 'k\\n',\n",
       " 'l\\n',\n",
       " 'm\\n',\n",
       " 'n\\n',\n",
       " 'o\\n',\n",
       " 'p\\n',\n",
       " 'q\\n',\n",
       " 'r\\n',\n",
       " 's\\n',\n",
       " 't\\n',\n",
       " 'u\\n',\n",
       " 'v\\n',\n",
       " 'w\\n',\n",
       " 'x\\n',\n",
       " 'y\\n',\n",
       " 'z\\n',\n",
       " '\\x82\\n',\n",
       " '\\x83\\n',\n",
       " '\\x84\\n',\n",
       " '\\x86\\n',\n",
       " '\\x87\\n',\n",
       " '\\x88\\n',\n",
       " '\\x89\\n',\n",
       " '\\x8a\\n',\n",
       " '\\x8b\\n',\n",
       " '\\x8c\\n',\n",
       " '\\x91\\n',\n",
       " '\\x92\\n',\n",
       " '\\x93\\n',\n",
       " '\\x94\\n',\n",
       " '\\x96\\n',\n",
       " '\\x97\\n',\n",
       " '\\x98\\n',\n",
       " '\\x99\\n',\n",
       " '\\x9a\\n',\n",
       " '\\x9b\\n',\n",
       " '\\x9c\\n',\n",
       " '\\x9f\\n',\n",
       " '\\xad\\n',\n",
       " '¯\\n',\n",
       " '²\\n',\n",
       " '³\\n',\n",
       " 'µ\\n',\n",
       " '¹\\n',\n",
       " 'ß\\n',\n",
       " 'ƒ\\n',\n",
       " 'Ǎ\\n',\n",
       " 'ǎ\\n',\n",
       " 'ǐ\\n',\n",
       " 'Ǒ\\n',\n",
       " 'ǒ\\n',\n",
       " 'ǔ\\n',\n",
       " 'ǖ\\n',\n",
       " 'ǘ\\n',\n",
       " 'ǚ\\n',\n",
       " 'ǜ\\n',\n",
       " 'ǹ\\n',\n",
       " 'ɐ\\n',\n",
       " 'ɑ\\n',\n",
       " 'ɔ\\n',\n",
       " 'ɛ\\n',\n",
       " 'ɡ\\n',\n",
       " 'ɪ\\n',\n",
       " 'ɵ\\n',\n",
       " 'ʃ\\n',\n",
       " 'ʊ\\n',\n",
       " 'ʺ\\n',\n",
       " 'ˆ\\n',\n",
       " 'ˇ\\n',\n",
       " 'ˉ\\n',\n",
       " 'ˊ\\n',\n",
       " 'ˋ\\n',\n",
       " 'ˍ\\n',\n",
       " '˙\\n',\n",
       " '˜\\n',\n",
       " '̅\\n',\n",
       " 'Δ\\n',\n",
       " 'Ω\\n',\n",
       " 'μ\\n',\n",
       " 'Ё\\n',\n",
       " 'А\\n',\n",
       " 'Б\\n',\n",
       " 'В\\n',\n",
       " 'Г\\n',\n",
       " 'Д\\n',\n",
       " 'Е\\n',\n",
       " 'Ж\\n',\n",
       " 'З\\n',\n",
       " 'И\\n',\n",
       " 'Й\\n',\n",
       " 'К\\n',\n",
       " 'Л\\n',\n",
       " 'М\\n',\n",
       " 'Н\\n',\n",
       " 'О\\n',\n",
       " 'П\\n',\n",
       " 'Р\\n',\n",
       " 'С\\n',\n",
       " 'Т\\n',\n",
       " 'У\\n',\n",
       " 'Ф\\n',\n",
       " 'Х\\n',\n",
       " 'Ц\\n',\n",
       " 'Ч\\n',\n",
       " 'Ш\\n',\n",
       " 'Щ\\n',\n",
       " 'Ъ\\n',\n",
       " 'Ы\\n',\n",
       " 'Ь\\n',\n",
       " 'Э\\n',\n",
       " 'Ю\\n',\n",
       " 'Я\\n',\n",
       " 'а\\n',\n",
       " 'б\\n',\n",
       " 'в\\n',\n",
       " 'г\\n',\n",
       " 'д\\n',\n",
       " 'е\\n',\n",
       " 'ж\\n',\n",
       " 'з\\n',\n",
       " 'и\\n',\n",
       " 'й\\n',\n",
       " 'к\\n',\n",
       " 'л\\n',\n",
       " 'м\\n',\n",
       " 'н\\n',\n",
       " 'о\\n',\n",
       " 'п\\n',\n",
       " 'р\\n',\n",
       " 'с\\n',\n",
       " 'т\\n',\n",
       " 'у\\n',\n",
       " 'ф\\n',\n",
       " 'х\\n',\n",
       " 'ц\\n',\n",
       " 'ч\\n',\n",
       " 'ш\\n',\n",
       " 'щ\\n',\n",
       " 'ъ\\n',\n",
       " 'ы\\n',\n",
       " 'ь\\n',\n",
       " 'э\\n',\n",
       " 'ю\\n',\n",
       " 'я\\n',\n",
       " 'ё\\n',\n",
       " 'Ғ\\n',\n",
       " 'ғ\\n',\n",
       " 'Җ\\n',\n",
       " 'җ\\n',\n",
       " 'Ҙ\\n',\n",
       " 'ҙ\\n',\n",
       " 'Қ\\n',\n",
       " 'қ\\n',\n",
       " 'Ҝ\\n',\n",
       " 'ҝ\\n',\n",
       " 'Ҡ\\n',\n",
       " 'ҡ\\n',\n",
       " 'Ң\\n',\n",
       " 'ң\\n',\n",
       " 'Ҥ\\n',\n",
       " 'ҥ\\n',\n",
       " 'Ҫ\\n',\n",
       " 'ҫ\\n',\n",
       " 'Ү\\n',\n",
       " 'ү\\n',\n",
       " 'Ұ\\n',\n",
       " 'ұ\\n',\n",
       " 'Ҳ\\n',\n",
       " 'ҳ\\n',\n",
       " 'Ҷ\\n',\n",
       " 'ҷ\\n',\n",
       " 'Ҹ\\n',\n",
       " 'ҹ\\n',\n",
       " 'Һ\\n',\n",
       " 'һ\\n',\n",
       " 'Ә\\n',\n",
       " 'Ӣ\\n',\n",
       " 'ӣ\\n',\n",
       " 'Ө\\n',\n",
       " 'ө\\n',\n",
       " 'Ӯ\\n',\n",
       " '،\\n',\n",
       " '؛\\n',\n",
       " '؟\\n',\n",
       " 'ئ\\n',\n",
       " 'ا\\n',\n",
       " 'ب\\n',\n",
       " 'ت\\n',\n",
       " 'ج\\n',\n",
       " 'ح\\n',\n",
       " 'خ\\n',\n",
       " 'د\\n',\n",
       " 'ر\\n',\n",
       " 'ز\\n',\n",
       " 'س\\n',\n",
       " 'ش\\n',\n",
       " 'ع\\n',\n",
       " 'غ\\n',\n",
       " 'ـ\\n',\n",
       " 'ف\\n',\n",
       " 'ق\\n',\n",
       " 'ك\\n',\n",
       " 'ل\\n',\n",
       " 'م\\n',\n",
       " 'ن\\n',\n",
       " 'ه\\n',\n",
       " 'و\\n',\n",
       " 'ى\\n',\n",
       " 'ي\\n',\n",
       " 'ٴ\\n',\n",
       " 'ٵ\\n',\n",
       " 'ٶ\\n',\n",
       " 'ٷ\\n',\n",
       " 'ٸ\\n',\n",
       " 'پ\\n',\n",
       " 'چ\\n',\n",
       " 'ژ\\n',\n",
       " 'ک\\n',\n",
       " 'ڭ\\n',\n",
       " 'گ\\n',\n",
       " 'ھ\\n',\n",
       " 'ۅ\\n',\n",
       " 'ۆ\\n',\n",
       " 'ۇ\\n',\n",
       " 'ۈ\\n',\n",
       " 'ۉ\\n',\n",
       " 'ۋ\\n',\n",
       " 'ی\\n',\n",
       " 'ې\\n',\n",
       " 'ە\\n',\n",
       " 'ༀ\\n',\n",
       " '༁\\n',\n",
       " '༂\\n',\n",
       " '༃\\n',\n",
       " '༄\\n',\n",
       " '༅\\n',\n",
       " '༆\\n',\n",
       " '༇\\n',\n",
       " '༈\\n',\n",
       " '༉\\n',\n",
       " '༊\\n',\n",
       " '་\\n',\n",
       " '༌\\n',\n",
       " '།\\n',\n",
       " '༎\\n',\n",
       " '༏\\n',\n",
       " '༐\\n',\n",
       " '༑\\n',\n",
       " '༒\\n',\n",
       " '༓\\n',\n",
       " '༔\\n',\n",
       " '༕\\n',\n",
       " '༖\\n',\n",
       " '༗\\n',\n",
       " '༘\\n',\n",
       " '༙\\n',\n",
       " '༚\\n',\n",
       " '༛\\n',\n",
       " '༜\\n',\n",
       " '༝\\n',\n",
       " '༞\\n',\n",
       " '༟\\n',\n",
       " '༠\\n',\n",
       " '༡\\n',\n",
       " '༢\\n',\n",
       " '༣\\n',\n",
       " '༤\\n',\n",
       " '༥\\n',\n",
       " '༦\\n',\n",
       " '༧\\n',\n",
       " '༨\\n',\n",
       " '༩\\n',\n",
       " '༪\\n',\n",
       " '༫\\n',\n",
       " '༬\\n',\n",
       " '༭\\n',\n",
       " '༮\\n',\n",
       " '༯\\n',\n",
       " '༰\\n',\n",
       " '༱\\n',\n",
       " '༲\\n',\n",
       " '༳\\n',\n",
       " '༴\\n',\n",
       " '༵\\n',\n",
       " '༶\\n',\n",
       " '༷\\n',\n",
       " '༸\\n',\n",
       " '༹\\n',\n",
       " '༺\\n',\n",
       " '༻\\n',\n",
       " '༼\\n',\n",
       " '༽\\n',\n",
       " '༾\\n',\n",
       " '༿\\n',\n",
       " 'ཀ\\n',\n",
       " 'ཁ\\n',\n",
       " 'ག\\n',\n",
       " 'གྷ\\n',\n",
       " 'ང\\n',\n",
       " 'ཅ\\n',\n",
       " 'ཆ\\n',\n",
       " 'ཇ\\n',\n",
       " 'ཉ\\n',\n",
       " 'ཊ\\n',\n",
       " 'ཋ\\n',\n",
       " 'ཌ\\n',\n",
       " 'ཌྷ\\n',\n",
       " 'ཎ\\n',\n",
       " 'ཏ\\n',\n",
       " 'ཐ\\n',\n",
       " 'ད\\n',\n",
       " 'དྷ\\n',\n",
       " 'ན\\n',\n",
       " 'པ\\n',\n",
       " 'ཕ\\n',\n",
       " 'བ\\n',\n",
       " 'བྷ\\n',\n",
       " 'མ\\n',\n",
       " 'ཙ\\n',\n",
       " 'ཚ\\n',\n",
       " 'ཛ\\n',\n",
       " 'ཛྷ\\n',\n",
       " 'ཝ\\n',\n",
       " 'ཞ\\n',\n",
       " 'ཟ\\n',\n",
       " 'འ\\n',\n",
       " 'ཡ\\n',\n",
       " 'ར\\n',\n",
       " 'ལ\\n',\n",
       " 'ཤ\\n',\n",
       " 'ཥ\\n',\n",
       " 'ས\\n',\n",
       " 'ཧ\\n',\n",
       " 'ཨ\\n',\n",
       " 'ཀྵ\\n',\n",
       " 'ཪ\\n',\n",
       " 'ཱ\\n',\n",
       " 'ི\\n',\n",
       " 'ཱི\\n',\n",
       " 'ུ\\n',\n",
       " 'ཱུ\\n',\n",
       " 'ྲྀ\\n',\n",
       " 'ཷ\\n',\n",
       " 'ླྀ\\n',\n",
       " 'ཹ\\n',\n",
       " 'ེ\\n',\n",
       " 'ཻ\\n',\n",
       " 'ོ\\n',\n",
       " 'ཽ\\n',\n",
       " 'ཾ\\n',\n",
       " 'ཿ\\n',\n",
       " 'ྀ\\n',\n",
       " 'ཱྀ\\n',\n",
       " 'ྂ\\n',\n",
       " 'ྃ\\n',\n",
       " '྄\\n',\n",
       " '྅\\n',\n",
       " '྆\\n',\n",
       " '྇\\n',\n",
       " 'ྈ\\n',\n",
       " 'ྉ\\n',\n",
       " 'ྊ\\n',\n",
       " 'ྋ\\n',\n",
       " 'ྐ\\n',\n",
       " 'ྑ\\n',\n",
       " 'ྒ\\n',\n",
       " 'ྒྷ\\n',\n",
       " 'ྔ\\n',\n",
       " 'ྕ\\n',\n",
       " 'ྖ\\n',\n",
       " 'ྗ\\n',\n",
       " 'ྙ\\n',\n",
       " 'ྚ\\n',\n",
       " 'ྛ\\n',\n",
       " 'ྜ\\n',\n",
       " 'ྜྷ\\n',\n",
       " 'ྞ\\n',\n",
       " 'ྟ\\n',\n",
       " 'ྠ\\n',\n",
       " 'ྡ\\n',\n",
       " 'ྡྷ\\n',\n",
       " 'ྣ\\n',\n",
       " 'ྤ\\n',\n",
       " 'ྥ\\n',\n",
       " 'ྦ\\n',\n",
       " 'ྦྷ\\n',\n",
       " 'ྨ\\n',\n",
       " 'ྩ\\n',\n",
       " 'ྪ\\n',\n",
       " 'ྫ\\n',\n",
       " 'ྫྷ\\n',\n",
       " 'ྭ\\n',\n",
       " 'ྮ\\n',\n",
       " 'ྯ\\n',\n",
       " 'ྰ\\n',\n",
       " 'ྱ\\n',\n",
       " 'ྲ\\n',\n",
       " 'ླ\\n',\n",
       " 'ྴ\\n',\n",
       " 'ྵ\\n',\n",
       " 'ྶ\\n',\n",
       " 'ྷ\\n',\n",
       " 'ྸ\\n',\n",
       " 'ྐྵ\\n',\n",
       " 'ྺ\\n',\n",
       " 'ྻ\\n',\n",
       " 'ྼ\\n',\n",
       " '྾\\n',\n",
       " '྿\\n',\n",
       " '࿀\\n',\n",
       " '࿁\\n',\n",
       " '࿂\\n',\n",
       " '࿃\\n',\n",
       " '࿄\\n',\n",
       " '࿅\\n',\n",
       " '࿆\\n',\n",
       " '࿇\\n',\n",
       " '࿈\\n',\n",
       " '࿉\\n',\n",
       " '࿊\\n',\n",
       " '࿋\\n',\n",
       " '࿌\\n',\n",
       " '࿏\\n',\n",
       " '᠀\\n',\n",
       " '᠁\\n',\n",
       " '᠂\\n',\n",
       " '᠃\\n',\n",
       " '᠄\\n',\n",
       " '᠅\\n',\n",
       " '᠆\\n',\n",
       " '᠇\\n',\n",
       " '᠈\\n',\n",
       " '᠉\\n',\n",
       " '᠊\\n',\n",
       " '᠋\\n',\n",
       " '᠌\\n',\n",
       " '᠍\\n',\n",
       " '\\u180e\\n',\n",
       " '᠐\\n',\n",
       " '᠑\\n',\n",
       " '᠒\\n',\n",
       " '᠓\\n',\n",
       " '᠔\\n',\n",
       " '᠕\\n',\n",
       " '᠖\\n',\n",
       " '᠗\\n',\n",
       " '᠘\\n',\n",
       " '᠙\\n',\n",
       " 'ᠠ\\n',\n",
       " 'ᠡ\\n',\n",
       " 'ᠢ\\n',\n",
       " 'ᠣ\\n',\n",
       " 'ᠤ\\n',\n",
       " 'ᠥ\\n',\n",
       " 'ᠦ\\n',\n",
       " 'ᠧ\\n',\n",
       " 'ᠨ\\n',\n",
       " 'ᠩ\\n',\n",
       " 'ᠪ\\n',\n",
       " 'ᠫ\\n',\n",
       " 'ᠬ\\n',\n",
       " 'ᠭ\\n',\n",
       " 'ᠮ\\n',\n",
       " 'ᠯ\\n',\n",
       " 'ᠰ\\n',\n",
       " 'ᠱ\\n',\n",
       " 'ᠲ\\n',\n",
       " 'ᠳ\\n',\n",
       " 'ᠴ\\n',\n",
       " 'ᠵ\\n',\n",
       " 'ᠶ\\n',\n",
       " 'ᠷ\\n',\n",
       " 'ᠸ\\n',\n",
       " 'ᠹ\\n',\n",
       " 'ᠺ\\n',\n",
       " 'ᠻ\\n',\n",
       " 'ᠼ\\n',\n",
       " 'ᠽ\\n',\n",
       " 'ᠾ\\n',\n",
       " 'ᠿ\\n',\n",
       " 'ᡀ\\n',\n",
       " 'ᡁ\\n',\n",
       " 'ᡂ\\n',\n",
       " 'ᡃ\\n',\n",
       " 'ᡄ\\n',\n",
       " 'ᡅ\\n',\n",
       " 'ᡆ\\n',\n",
       " 'ᡇ\\n',\n",
       " 'ᡈ\\n',\n",
       " 'ᡉ\\n',\n",
       " 'ᡊ\\n',\n",
       " 'ᡋ\\n',\n",
       " 'ᡌ\\n',\n",
       " 'ᡍ\\n',\n",
       " 'ᡎ\\n',\n",
       " 'ᡏ\\n',\n",
       " 'ᡐ\\n',\n",
       " 'ᡑ\\n',\n",
       " 'ᡒ\\n',\n",
       " 'ᡓ\\n',\n",
       " 'ᡔ\\n',\n",
       " 'ᡕ\\n',\n",
       " 'ᡖ\\n',\n",
       " 'ᡗ\\n',\n",
       " 'ᡘ\\n',\n",
       " 'ᡙ\\n',\n",
       " 'ᡚ\\n',\n",
       " 'ᡛ\\n',\n",
       " 'ᡜ\\n',\n",
       " 'ᡝ\\n',\n",
       " 'ᡞ\\n',\n",
       " 'ᡟ\\n',\n",
       " 'ᡠ\\n',\n",
       " 'ᡡ\\n',\n",
       " 'ᡢ\\n',\n",
       " 'ᡣ\\n',\n",
       " 'ᡤ\\n',\n",
       " 'ᡥ\\n',\n",
       " 'ᡦ\\n',\n",
       " 'ᡧ\\n',\n",
       " 'ᡨ\\n',\n",
       " 'ᡩ\\n',\n",
       " 'ᡪ\\n',\n",
       " 'ᡫ\\n',\n",
       " 'ᡬ\\n',\n",
       " 'ᡭ\\n',\n",
       " 'ᡮ\\n',\n",
       " 'ᡯ\\n',\n",
       " 'ᡰ\\n',\n",
       " 'ᡱ\\n',\n",
       " 'ᡲ\\n',\n",
       " 'ᡳ\\n',\n",
       " 'ᡴ\\n',\n",
       " 'ᡵ\\n',\n",
       " 'ᡶ\\n',\n",
       " 'ᡷ\\n',\n",
       " 'ᢀ\\n',\n",
       " 'ᢁ\\n',\n",
       " 'ᢂ\\n',\n",
       " 'ᢃ\\n',\n",
       " 'ᢄ\\n',\n",
       " 'ᢅ\\n',\n",
       " 'ᢆ\\n',\n",
       " 'ᢇ\\n',\n",
       " 'ᢈ\\n',\n",
       " 'ᢉ\\n',\n",
       " 'ᢊ\\n',\n",
       " 'ᢋ\\n',\n",
       " 'ᢌ\\n',\n",
       " 'ᢍ\\n',\n",
       " 'ᢎ\\n',\n",
       " 'ᢏ\\n',\n",
       " 'ᢐ\\n',\n",
       " 'ᢑ\\n',\n",
       " 'ᢒ\\n',\n",
       " 'ᢓ\\n',\n",
       " 'ᢔ\\n',\n",
       " 'ᢕ\\n',\n",
       " 'ᢖ\\n',\n",
       " 'ᢗ\\n',\n",
       " 'ᢘ\\n',\n",
       " 'ᢙ\\n',\n",
       " 'ᢚ\\n',\n",
       " 'ᢛ\\n',\n",
       " 'ᢜ\\n',\n",
       " 'ᢝ\\n',\n",
       " 'ᢞ\\n',\n",
       " 'ᢟ\\n',\n",
       " 'ᢠ\\n',\n",
       " 'ᢡ\\n',\n",
       " 'ᢢ\\n',\n",
       " 'ᢣ\\n',\n",
       " 'ᢤ\\n',\n",
       " 'ᢥ\\n',\n",
       " 'ᢦ\\n',\n",
       " 'ᢧ\\n',\n",
       " 'ᢨ\\n',\n",
       " 'ᢩ\\n',\n",
       " 'ḿ\\n',\n",
       " 'Ế\\n',\n",
       " 'ế\\n',\n",
       " 'Ề\\n',\n",
       " 'ề\\n',\n",
       " '‐\\n',\n",
       " '―\\n',\n",
       " '‖\\n',\n",
       " '‟\\n',\n",
       " '‥\\n',\n",
       " '‧\\n',\n",
       " '′\\n',\n",
       " '″\\n',\n",
       " '‵\\n',\n",
       " '※\\n',\n",
       " '‾\\n',\n",
       " '⁴\\n',\n",
       " 'ⁿ\\n',\n",
       " '₁\\n',\n",
       " '₂\\n',\n",
       " '₃\\n',\n",
       " '₄\\n',\n",
       " '₠\\n',\n",
       " '₢\\n',\n",
       " '₥\\n',\n",
       " '₦\\n',\n",
       " '₨\\n',\n",
       " '₩\\n',\n",
       " '₪\\n',\n",
       " '℃\\n',\n",
       " '℅\\n',\n",
       " '℉\\n',\n",
       " '№\\n',\n",
       " '℡\\n',\n",
       " 'Å\\n',\n",
       " 'Ⅰ\\n',\n",
       " 'Ⅱ\\n',\n",
       " 'Ⅲ\\n',\n",
       " 'Ⅳ\\n',\n",
       " 'Ⅴ\\n',\n",
       " 'Ⅵ\\n',\n",
       " 'Ⅶ\\n',\n",
       " 'Ⅷ\\n',\n",
       " 'Ⅸ\\n',\n",
       " 'Ⅹ\\n',\n",
       " 'Ⅺ\\n',\n",
       " 'Ⅻ\\n',\n",
       " 'ⅰ\\n',\n",
       " 'ⅱ\\n',\n",
       " 'ⅲ\\n',\n",
       " 'ⅳ\\n',\n",
       " 'ⅴ\\n',\n",
       " 'ⅵ\\n',\n",
       " 'ⅶ\\n',\n",
       " 'ⅷ\\n',\n",
       " 'ⅸ\\n',\n",
       " 'ⅹ\\n',\n",
       " 'ⅺ\\n',\n",
       " 'ⅻ\\n',\n",
       " '→\\n',\n",
       " '↖\\n',\n",
       " '↗\\n',\n",
       " '↘\\n',\n",
       " '↙\\n',\n",
       " '↸\\n',\n",
       " '↹\\n',\n",
       " '⇧\\n',\n",
       " '∕\\n',\n",
       " '∖\\n',\n",
       " '∘\\n',\n",
       " '∙\\n',\n",
       " '∟\\n',\n",
       " '∣\\n',\n",
       " '∥\\n',\n",
       " '∬\\n',\n",
       " '∮\\n',\n",
       " '∵\\n',\n",
       " '∶\\n',\n",
       " '∷\\n',\n",
       " '∽\\n',\n",
       " '≌\\n',\n",
       " '≒\\n',\n",
       " '≣\\n',\n",
       " '≦\\n',\n",
       " '≧\\n',\n",
       " '≪\\n',\n",
       " '≫\\n',\n",
       " '≮\\n',\n",
       " '≯\\n',\n",
       " '⊙\\n',\n",
       " '⊿\\n',\n",
       " '⌇\\n',\n",
       " '⌒\\n',\n",
       " '␀\\n',\n",
       " '␁\\n',\n",
       " '␂\\n',\n",
       " '␃\\n',\n",
       " '␄\\n',\n",
       " '␅\\n',\n",
       " '␆\\n',\n",
       " '␇\\n',\n",
       " '␈\\n',\n",
       " '␉\\n',\n",
       " '␊\\n',\n",
       " '␋\\n',\n",
       " '␌\\n',\n",
       " '␍\\n',\n",
       " '␎\\n',\n",
       " '␏\\n',\n",
       " '␐\\n',\n",
       " '␑\\n',\n",
       " '␒\\n',\n",
       " '␓\\n',\n",
       " '␔\\n',\n",
       " '␕\\n',\n",
       " '␖\\n',\n",
       " '␗\\n',\n",
       " '␘\\n',\n",
       " '␙\\n',\n",
       " '␚\\n',\n",
       " '␛\\n',\n",
       " '␜\\n',\n",
       " '␝\\n',\n",
       " '␞\\n',\n",
       " '␟\\n',\n",
       " '␠\\n',\n",
       " '␡\\n',\n",
       " '␢\\n',\n",
       " '␣\\n',\n",
       " '␤\\n',\n",
       " '␥\\n',\n",
       " '␦\\n',\n",
       " '①\\n',\n",
       " '②\\n',\n",
       " '③\\n',\n",
       " '④\\n',\n",
       " '⑤\\n',\n",
       " '⑥\\n',\n",
       " '⑦\\n',\n",
       " '⑧\\n',\n",
       " '⑨\\n',\n",
       " '⑩\\n',\n",
       " '⑪\\n',\n",
       " '⑫\\n',\n",
       " '⑬\\n',\n",
       " '⑭\\n',\n",
       " '⑮\\n',\n",
       " '⑯\\n',\n",
       " '⑰\\n',\n",
       " '⑱\\n',\n",
       " '⑲\\n',\n",
       " '⑳\\n',\n",
       " '⑴\\n',\n",
       " '⑵\\n',\n",
       " '⑶\\n',\n",
       " '⑷\\n',\n",
       " '⑸\\n',\n",
       " '⑹\\n',\n",
       " '⑺\\n',\n",
       " '⑻\\n',\n",
       " '⑼\\n',\n",
       " '⑽\\n',\n",
       " '⑾\\n',\n",
       " '⑿\\n',\n",
       " '⒀\\n',\n",
       " '⒁\\n',\n",
       " '⒂\\n',\n",
       " '⒃\\n',\n",
       " '⒄\\n',\n",
       " '⒅\\n',\n",
       " '⒆\\n',\n",
       " '⒇\\n',\n",
       " '⒈\\n',\n",
       " '⒉\\n',\n",
       " '⒊\\n',\n",
       " '⒋\\n',\n",
       " '⒌\\n',\n",
       " '⒍\\n',\n",
       " '⒎\\n',\n",
       " '⒏\\n',\n",
       " '⒐\\n',\n",
       " '⒑\\n',\n",
       " '⒒\\n',\n",
       " '⒓\\n',\n",
       " '⒔\\n',\n",
       " '⒕\\n',\n",
       " '⒖\\n',\n",
       " '⒗\\n',\n",
       " '⒘\\n',\n",
       " '⒙\\n',\n",
       " '⒚\\n',\n",
       " '⒛\\n',\n",
       " '⒜\\n',\n",
       " '⒝\\n',\n",
       " '⒞\\n',\n",
       " '⒟\\n',\n",
       " '⒠\\n',\n",
       " '⒡\\n',\n",
       " '⒢\\n',\n",
       " '⒣\\n',\n",
       " '⒤\\n',\n",
       " '⒥\\n',\n",
       " '⒦\\n',\n",
       " '⒧\\n',\n",
       " '⒨\\n',\n",
       " '⒩\\n',\n",
       " '⒪\\n',\n",
       " '⒫\\n',\n",
       " '⒬\\n',\n",
       " '⒭\\n',\n",
       " '⒮\\n',\n",
       " '⒯\\n',\n",
       " '⒰\\n',\n",
       " '⒱\\n',\n",
       " '⒲\\n',\n",
       " '⒳\\n',\n",
       " '⒴\\n',\n",
       " '⒵\\n',\n",
       " 'Ⓐ\\n',\n",
       " 'Ⓑ\\n',\n",
       " 'Ⓒ\\n',\n",
       " 'Ⓓ\\n',\n",
       " 'Ⓔ\\n',\n",
       " 'Ⓕ\\n',\n",
       " 'Ⓖ\\n',\n",
       " 'Ⓗ\\n',\n",
       " 'Ⓘ\\n',\n",
       " 'Ⓙ\\n',\n",
       " 'Ⓚ\\n',\n",
       " 'Ⓛ\\n',\n",
       " 'Ⓜ\\n',\n",
       " 'Ⓝ\\n',\n",
       " 'Ⓞ\\n',\n",
       " 'Ⓟ\\n',\n",
       " 'Ⓠ\\n',\n",
       " 'Ⓡ\\n',\n",
       " 'Ⓢ\\n',\n",
       " 'Ⓣ\\n',\n",
       " 'Ⓤ\\n',\n",
       " 'Ⓥ\\n',\n",
       " 'Ⓦ\\n',\n",
       " 'Ⓧ\\n',\n",
       " 'Ⓨ\\n',\n",
       " 'Ⓩ\\n',\n",
       " 'ⓐ\\n',\n",
       " 'ⓑ\\n',\n",
       " 'ⓒ\\n',\n",
       " 'ⓓ\\n',\n",
       " 'ⓔ\\n',\n",
       " 'ⓕ\\n',\n",
       " 'ⓖ\\n',\n",
       " 'ⓗ\\n',\n",
       " 'ⓘ\\n',\n",
       " 'ⓙ\\n',\n",
       " 'ⓚ\\n',\n",
       " 'ⓛ\\n',\n",
       " 'ⓜ\\n',\n",
       " 'ⓝ\\n',\n",
       " 'ⓞ\\n',\n",
       " 'ⓟ\\n',\n",
       " 'ⓠ\\n',\n",
       " 'ⓡ\\n',\n",
       " 'ⓢ\\n',\n",
       " 'ⓣ\\n',\n",
       " 'ⓤ\\n',\n",
       " 'ⓥ\\n',\n",
       " 'ⓦ\\n',\n",
       " 'ⓧ\\n',\n",
       " 'ⓨ\\n',\n",
       " 'ⓩ\\n',\n",
       " '⓪\\n',\n",
       " '━\\n',\n",
       " '┃\\n',\n",
       " '┄\\n',\n",
       " '┅\\n',\n",
       " '┆\\n',\n",
       " '┇\\n',\n",
       " '┈\\n',\n",
       " '┉\\n',\n",
       " '┊\\n',\n",
       " '┋\\n',\n",
       " '┍\\n',\n",
       " '┎\\n',\n",
       " '┏\\n',\n",
       " '┑\\n',\n",
       " '┒\\n',\n",
       " '┓\\n',\n",
       " '┕\\n',\n",
       " '┖\\n',\n",
       " '┗\\n',\n",
       " '┙\\n',\n",
       " '┚\\n',\n",
       " '┛\\n',\n",
       " '┝\\n',\n",
       " '┞\\n',\n",
       " '┟\\n',\n",
       " '┠\\n',\n",
       " '┡\\n',\n",
       " '┢\\n',\n",
       " '┣\\n',\n",
       " '┥\\n',\n",
       " '┦\\n',\n",
       " '┧\\n',\n",
       " '┨\\n',\n",
       " '┩\\n',\n",
       " '┪\\n',\n",
       " '┫\\n',\n",
       " '┭\\n',\n",
       " '┮\\n',\n",
       " '┯\\n',\n",
       " '┰\\n',\n",
       " '┱\\n',\n",
       " '┲\\n',\n",
       " '┳\\n',\n",
       " '┵\\n',\n",
       " '┶\\n',\n",
       " '┷\\n',\n",
       " '┸\\n',\n",
       " '┹\\n',\n",
       " '┺\\n',\n",
       " '┻\\n',\n",
       " '┽\\n',\n",
       " '┾\\n',\n",
       " '┿\\n',\n",
       " '╀\\n',\n",
       " '╁\\n',\n",
       " '╂\\n',\n",
       " '╃\\n',\n",
       " '╄\\n',\n",
       " '╅\\n',\n",
       " '╆\\n',\n",
       " '╇\\n',\n",
       " '╈\\n',\n",
       " '╉\\n',\n",
       " '╊\\n',\n",
       " '╋\\n',\n",
       " '╭\\n',\n",
       " '╮\\n',\n",
       " '╯\\n',\n",
       " '╰\\n',\n",
       " '╱\\n',\n",
       " '╲\\n',\n",
       " '╳\\n',\n",
       " '╴\\n',\n",
       " '▁\\n',\n",
       " '▂\\n',\n",
       " '▃\\n',\n",
       " '▅\\n',\n",
       " '▆\\n',\n",
       " '▇\\n',\n",
       " '▉\\n',\n",
       " '▊\\n',\n",
       " '▋\\n',\n",
       " '▍\\n',\n",
       " '▎\\n',\n",
       " '▏\\n',\n",
       " '▔\\n',\n",
       " '▕\\n',\n",
       " '■\\n',\n",
       " '□\\n',\n",
       " '▣\\n',\n",
       " '▤\\n',\n",
       " '▥\\n',\n",
       " '▦\\n',\n",
       " '▧\\n',\n",
       " '▨\\n',\n",
       " '▩\\n',\n",
       " '▲\\n',\n",
       " '△\\n',\n",
       " '▶\\n',\n",
       " '▷\\n',\n",
       " '▼\\n',\n",
       " '▽\\n',\n",
       " '◀\\n',\n",
       " '◁\\n',\n",
       " '◆\\n',\n",
       " '◇\\n',\n",
       " '◈\\n',\n",
       " '◎\\n',\n",
       " '●\\n',\n",
       " '◐\\n',\n",
       " '◑\\n',\n",
       " '◢\\n',\n",
       " '◣\\n',\n",
       " '◤\\n',\n",
       " '◥\\n',\n",
       " ...]"
      ]
     },
     "execution_count": 109,
     "metadata": {},
     "output_type": "execute_result"
    }
   ],
   "source": [
    "lines"
   ]
  },
  {
   "cell_type": "code",
   "execution_count": 111,
   "metadata": {},
   "outputs": [],
   "source": [
    "x = list('asldkjfa;lskdjf;slkj')\n",
    "with codecs.open('abc.txt',\n",
    "                 mode='w', encoding='utf-8') as w:\n",
    "    for i in x:\n",
    "        w.write('{}\\n'.format(i))"
   ]
  },
  {
   "cell_type": "code",
   "execution_count": 112,
   "metadata": {},
   "outputs": [
    {
     "name": "stdout",
     "output_type": "stream",
     "text": [
      "a\r\n",
      "s\r\n",
      "l\r\n",
      "d\r\n",
      "k\r\n",
      "j\r\n",
      "f\r\n",
      "a\r\n",
      ";\r\n",
      "l\r\n",
      "s\r\n",
      "k\r\n",
      "d\r\n",
      "j\r\n",
      "f\r\n",
      ";\r\n",
      "s\r\n",
      "l\r\n",
      "k\r\n",
      "j\r\n"
     ]
    }
   ],
   "source": [
    "!cat abc.txt"
   ]
  },
  {
   "cell_type": "markdown",
   "metadata": {},
   "source": [
    "## json读写"
   ]
  },
  {
   "cell_type": "code",
   "execution_count": 113,
   "metadata": {},
   "outputs": [
    {
     "name": "stdout",
     "output_type": "stream",
     "text": [
      "{'bigberg': [7600, {1: [['iPhone', 6300], ['Bike', 800], ['shirt', 300]]}]}\n",
      "<class 'dict'>\n",
      "{\"bigberg\": [7600, {\"1\": [[\"iPhone\", 6300], [\"Bike\", 800], [\"shirt\", 300]]}]}\n",
      "<class 'str'>\n"
     ]
    }
   ],
   "source": [
    "import json\n",
    "\n",
    "test_dict = {'bigberg': [7600, {1: [['iPhone', 6300], ['Bike', 800], ['shirt', 300]]}]}\n",
    "\n",
    "#dumps 将数据转换成字符串\n",
    "json_str = json.dumps(test_dict)\n",
    "print(json_str)\n",
    "print(type(json_str))"
   ]
  },
  {
   "cell_type": "code",
   "execution_count": 141,
   "metadata": {},
   "outputs": [],
   "source": [
    "import json\n",
    "\n",
    "test_dict = ('ad','dklsd')\n",
    "\n",
    "with open(\"abc.json\",\"w\") as f:\n",
    "    json.dump(test_dict,f,indent=4, ensure_ascii=False)\n"
   ]
  },
  {
   "cell_type": "code",
   "execution_count": 143,
   "metadata": {},
   "outputs": [
    {
     "name": "stdout",
     "output_type": "stream",
     "text": [
      "[\r\n",
      "    \"ad\",\r\n",
      "    \"dklsd\"\r\n",
      "]"
     ]
    }
   ],
   "source": [
    "!cat abc.json"
   ]
  },
  {
   "cell_type": "code",
   "execution_count": 134,
   "metadata": {},
   "outputs": [],
   "source": [
    "with codecs.open(\"abc.json\", mode='r', encoding='utf-8') as f:\n",
    "    x = json.load(f)"
   ]
  },
  {
   "cell_type": "code",
   "execution_count": 136,
   "metadata": {},
   "outputs": [
    {
     "data": {
      "text/plain": [
       "list"
      ]
     },
     "execution_count": 136,
     "metadata": {},
     "output_type": "execute_result"
    }
   ],
   "source": [
    "type(xml)"
   ]
  },
  {
   "cell_type": "code",
   "execution_count": 131,
   "metadata": {},
   "outputs": [
    {
     "data": {
      "text/plain": [
       "dict"
      ]
     },
     "execution_count": 131,
     "metadata": {},
     "output_type": "execute_result"
    }
   ],
   "source": [
    "type(xml)"
   ]
  },
  {
   "cell_type": "code",
   "execution_count": null,
   "metadata": {},
   "outputs": [],
   "source": []
  }
 ],
 "metadata": {
  "kernelspec": {
   "display_name": "Python 3",
   "language": "python",
   "name": "python3"
  },
  "language_info": {
   "codemirror_mode": {
    "name": "ipython",
    "version": 3
   },
   "file_extension": ".py",
   "mimetype": "text/x-python",
   "name": "python",
   "nbconvert_exporter": "python",
   "pygments_lexer": "ipython3",
   "version": "3.6.3"
  },
  "toc": {
   "base_numbering": 1.0,
   "nav_menu": {},
   "number_sections": true,
   "sideBar": true,
   "skip_h1_title": false,
   "title_cell": "Table of Contents",
   "title_sidebar": "Contents",
   "toc_cell": false,
   "toc_position": {},
   "toc_section_display": true,
   "toc_window_display": true
  }
 },
 "nbformat": 4,
 "nbformat_minor": 2
}
